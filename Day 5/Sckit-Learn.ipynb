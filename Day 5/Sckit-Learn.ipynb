{
 "cells": [
  {
   "cell_type": "markdown",
   "id": "3d333f36-bac3-473d-8e1d-6ad1b648b9f3",
   "metadata": {},
   "source": [
    "### What is scikit-learn?"
   ]
  },
  {
   "cell_type": "markdown",
   "id": "177bee55-b273-4668-90fd-1b761c082dca",
   "metadata": {},
   "source": [
    "###### A Python library for machine learning built on top of NumPy, SciPy, and matplotlib.  \n",
    "Provides simple and efficient tools for: \n",
    "        Classification (Spam detection, disease prediction, etc.)  \n",
    "        Regression (House price prediction, stock prediction)  \n",
    "        Clustering (Customer segmentation, grouping)  \n",
    "        Dimensionality reduction (PCA)  \n",
    "        Model selection (Cross-validation, hyperparameter tuning)  \n",
    "        Preprocessing (Scaling, encoding)"
   ]
  },
  {
   "cell_type": "markdown",
   "id": "e7e96811-38dd-4b62-b7d8-dc4c5e1c49b2",
   "metadata": {},
   "source": [
    "## Linear Regression"
   ]
  },
  {
   "cell_type": "markdown",
   "id": "0c3d0ea9-586e-4bf4-b764-02e90a749666",
   "metadata": {},
   "source": [
    "## Logistic Regression"
   ]
  },
  {
   "cell_type": "code",
   "execution_count": null,
   "id": "187c7d2d-9ef0-4ac6-953d-3d4eddcc9453",
   "metadata": {},
   "outputs": [],
   "source": []
  },
  {
   "cell_type": "code",
   "execution_count": null,
   "id": "c7573f1a-fdbd-496a-ab50-a06872456f26",
   "metadata": {},
   "outputs": [],
   "source": []
  }
 ],
 "metadata": {
  "kernelspec": {
   "display_name": "Python 3 (ipykernel)",
   "language": "python",
   "name": "python3"
  },
  "language_info": {
   "codemirror_mode": {
    "name": "ipython",
    "version": 3
   },
   "file_extension": ".py",
   "mimetype": "text/x-python",
   "name": "python",
   "nbconvert_exporter": "python",
   "pygments_lexer": "ipython3",
   "version": "3.12.5"
  }
 },
 "nbformat": 4,
 "nbformat_minor": 5
}
