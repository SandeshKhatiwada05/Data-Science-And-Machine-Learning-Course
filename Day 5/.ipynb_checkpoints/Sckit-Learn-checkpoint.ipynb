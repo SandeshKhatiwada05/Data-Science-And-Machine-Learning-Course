{
 "cells": [
  {
   "cell_type": "markdown",
   "id": "177bee55-b273-4668-90fd-1b761c082dca",
   "metadata": {},
   "source": [
    "What is scikit-learn?   \n",
    "A Python library for machine learning built on top of NumPy, SciPy, and matplotlib.  \n",
    "Provides simple and efficient tools for: \n",
    "        Classification (Spam detection, disease prediction, etc.)  \n",
    "        Regression (House price prediction, stock prediction)  \n",
    "        Clustering (Customer segmentation, grouping)  \n",
    "        Dimensionality reduction (PCA)  \n",
    "        Model selection (Cross-validation, hyperparameter tuning)  \n",
    "        Preprocessing (Scaling, encoding)"
   ]
  },
  {
   "cell_type": "code",
   "execution_count": null,
   "id": "075cd21c-1f11-4dc1-beb6-e67285c189ae",
   "metadata": {},
   "outputs": [],
   "source": []
  }
 ],
 "metadata": {
  "kernelspec": {
   "display_name": "Python 3 (ipykernel)",
   "language": "python",
   "name": "python3"
  },
  "language_info": {
   "codemirror_mode": {
    "name": "ipython",
    "version": 3
   },
   "file_extension": ".py",
   "mimetype": "text/x-python",
   "name": "python",
   "nbconvert_exporter": "python",
   "pygments_lexer": "ipython3",
   "version": "3.12.5"
  }
 },
 "nbformat": 4,
 "nbformat_minor": 5
}
