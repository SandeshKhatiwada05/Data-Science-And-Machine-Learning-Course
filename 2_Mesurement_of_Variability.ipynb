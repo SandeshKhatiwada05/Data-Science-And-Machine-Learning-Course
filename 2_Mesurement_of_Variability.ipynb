{
 "cells": [
  {
   "cell_type": "code",
   "execution_count": 1,
   "id": "63291b3c-5889-4d46-bdfe-834597479360",
   "metadata": {},
   "outputs": [],
   "source": [
    "import numpy as np\n",
    "import pandas as pd\n",
    "import matplotlib.pyplot as plt\n",
    "import seaborn as sns"
   ]
  },
  {
   "cell_type": "code",
   "execution_count": 3,
   "id": "9dbf7aa5-fcad-4f83-98c4-2fcafddeadef",
   "metadata": {},
   "outputs": [],
   "source": [
    "dataset = pd.read_csv(r\"D:\\Github\\Data-Science-And-Machine-Learning-Course\\DSML Class Orchid\\Day 4\\titanic_train.csv\")"
   ]
  },
  {
   "cell_type": "code",
   "execution_count": 7,
   "id": "a996602a-9081-443e-ac05-ae53ca889c74",
   "metadata": {},
   "outputs": [
    {
     "data": {
      "text/html": [
       "<div>\n",
       "<style scoped>\n",
       "    .dataframe tbody tr th:only-of-type {\n",
       "        vertical-align: middle;\n",
       "    }\n",
       "\n",
       "    .dataframe tbody tr th {\n",
       "        vertical-align: top;\n",
       "    }\n",
       "\n",
       "    .dataframe thead th {\n",
       "        text-align: right;\n",
       "    }\n",
       "</style>\n",
       "<table border=\"1\" class=\"dataframe\">\n",
       "  <thead>\n",
       "    <tr style=\"text-align: right;\">\n",
       "      <th></th>\n",
       "      <th>PassengerId</th>\n",
       "      <th>Survived</th>\n",
       "      <th>Pclass</th>\n",
       "      <th>Name</th>\n",
       "      <th>Sex</th>\n",
       "      <th>Age</th>\n",
       "      <th>SibSp</th>\n",
       "      <th>Parch</th>\n",
       "      <th>Ticket</th>\n",
       "      <th>Fare</th>\n",
       "      <th>Cabin</th>\n",
       "      <th>Embarked</th>\n",
       "    </tr>\n",
       "  </thead>\n",
       "  <tbody>\n",
       "    <tr>\n",
       "      <th>0</th>\n",
       "      <td>1</td>\n",
       "      <td>0</td>\n",
       "      <td>3</td>\n",
       "      <td>Braund, Mr. Owen Harris</td>\n",
       "      <td>male</td>\n",
       "      <td>22.0</td>\n",
       "      <td>1</td>\n",
       "      <td>0</td>\n",
       "      <td>A/5 21171</td>\n",
       "      <td>7.2500</td>\n",
       "      <td>NaN</td>\n",
       "      <td>S</td>\n",
       "    </tr>\n",
       "    <tr>\n",
       "      <th>1</th>\n",
       "      <td>2</td>\n",
       "      <td>1</td>\n",
       "      <td>1</td>\n",
       "      <td>Cumings, Mrs. John Bradley (Florence Briggs Th...</td>\n",
       "      <td>female</td>\n",
       "      <td>38.0</td>\n",
       "      <td>1</td>\n",
       "      <td>0</td>\n",
       "      <td>PC 17599</td>\n",
       "      <td>71.2833</td>\n",
       "      <td>C85</td>\n",
       "      <td>C</td>\n",
       "    </tr>\n",
       "    <tr>\n",
       "      <th>2</th>\n",
       "      <td>3</td>\n",
       "      <td>1</td>\n",
       "      <td>3</td>\n",
       "      <td>Heikkinen, Miss. Laina</td>\n",
       "      <td>female</td>\n",
       "      <td>26.0</td>\n",
       "      <td>0</td>\n",
       "      <td>0</td>\n",
       "      <td>STON/O2. 3101282</td>\n",
       "      <td>7.9250</td>\n",
       "      <td>NaN</td>\n",
       "      <td>S</td>\n",
       "    </tr>\n",
       "  </tbody>\n",
       "</table>\n",
       "</div>"
      ],
      "text/plain": [
       "   PassengerId  Survived  Pclass  \\\n",
       "0            1         0       3   \n",
       "1            2         1       1   \n",
       "2            3         1       3   \n",
       "\n",
       "                                                Name     Sex   Age  SibSp  \\\n",
       "0                            Braund, Mr. Owen Harris    male  22.0      1   \n",
       "1  Cumings, Mrs. John Bradley (Florence Briggs Th...  female  38.0      1   \n",
       "2                             Heikkinen, Miss. Laina  female  26.0      0   \n",
       "\n",
       "   Parch            Ticket     Fare Cabin Embarked  \n",
       "0      0         A/5 21171   7.2500   NaN        S  \n",
       "1      0          PC 17599  71.2833   C85        C  \n",
       "2      0  STON/O2. 3101282   7.9250   NaN        S  "
      ]
     },
     "execution_count": 7,
     "metadata": {},
     "output_type": "execute_result"
    }
   ],
   "source": [
    "dataset.head(3)"
   ]
  },
  {
   "cell_type": "code",
   "execution_count": 12,
   "id": "31d63bb4-96d2-471b-8cf2-4c159a5fd853",
   "metadata": {},
   "outputs": [
    {
     "name": "stderr",
     "output_type": "stream",
     "text": [
      "C:\\Users\\Sandesh Khatiwada\\AppData\\Local\\Temp\\ipykernel_9012\\824851362.py:1: FutureWarning: A value is trying to be set on a copy of a DataFrame or Series through chained assignment using an inplace method.\n",
      "The behavior will change in pandas 3.0. This inplace method will never work because the intermediate object on which we are setting values always behaves as a copy.\n",
      "\n",
      "For example, when doing 'df[col].method(value, inplace=True)', try using 'df.method({col: value}, inplace=True)' or df[col] = df[col].method(value) instead, to perform the operation inplace on the original object.\n",
      "\n",
      "\n",
      "  dataset[\"Age\"].fillna(dataset[\"Age\"].mean(), inplace=True)\n"
     ]
    }
   ],
   "source": [
    "dataset[\"Age\"].fillna(dataset[\"Age\"].mean(), inplace=True)"
   ]
  },
  {
   "cell_type": "code",
   "execution_count": 15,
   "id": "35591d41-d1a8-4f08-baf8-bd6db16135cc",
   "metadata": {},
   "outputs": [
    {
     "data": {
      "text/plain": [
       "0"
      ]
     },
     "execution_count": 15,
     "metadata": {},
     "output_type": "execute_result"
    }
   ],
   "source": [
    "dataset[\"Age\"].isna().sum()"
   ]
  },
  {
   "cell_type": "code",
   "execution_count": 37,
   "id": "4e7162d3-c894-45a2-8804-31d2126067ed",
   "metadata": {},
   "outputs": [
    {
     "data": {
      "text/plain": [
       "0.42"
      ]
     },
     "execution_count": 37,
     "metadata": {},
     "output_type": "execute_result"
    }
   ],
   "source": [
    "min_age = dataset[\"Age\"].min()\n",
    "min_age"
   ]
  },
  {
   "cell_type": "code",
   "execution_count": 39,
   "id": "a4e08b27-6db6-4ea2-8a53-9a2663d2ecda",
   "metadata": {},
   "outputs": [
    {
     "data": {
      "text/plain": [
       "80.0"
      ]
     },
     "execution_count": 39,
     "metadata": {},
     "output_type": "execute_result"
    }
   ],
   "source": [
    "max_age = dataset[\"Age\"].max()\n",
    "max_age"
   ]
  },
  {
   "cell_type": "code",
   "execution_count": 22,
   "id": "f0ea6fdb-b651-4794-ad22-65880bf1db3f",
   "metadata": {},
   "outputs": [
    {
     "data": {
      "text/plain": [
       "803     0.42\n",
       "755     0.67\n",
       "644     0.75\n",
       "469     0.75\n",
       "831     0.83\n",
       "       ...  \n",
       "116    70.50\n",
       "96     71.00\n",
       "493    71.00\n",
       "851    74.00\n",
       "630    80.00\n",
       "Name: Age, Length: 891, dtype: float64"
      ]
     },
     "execution_count": 22,
     "metadata": {},
     "output_type": "execute_result"
    }
   ],
   "source": [
    "dataset[\"Age\"].sort_values() #sorts value from lowest to highest"
   ]
  },
  {
   "cell_type": "code",
   "execution_count": 31,
   "id": "ccee66eb-b717-44fe-8d27-fddcb234c772",
   "metadata": {},
   "outputs": [
    {
     "data": {
      "text/plain": [
       "79.58"
      ]
     },
     "execution_count": 31,
     "metadata": {},
     "output_type": "execute_result"
    }
   ],
   "source": [
    "age_range = dataset[\"Age\"].max() - dataset[\"Age\"].min() #difference between max and min\n",
    "age_range"
   ]
  },
  {
   "cell_type": "code",
   "execution_count": 49,
   "id": "538e4bdf-c08a-4bc5-8874-5b3c0637fd33",
   "metadata": {},
   "outputs": [
    {
     "data": {
      "image/png": "[encoded data removed]",
      "text/plain": [
       "<Figure size 640x480 with 1 Axes>"
      ]
     },
     "metadata": {},
     "output_type": "display_data"
    }
   ],
   "source": [
    "sns.histplot(x=dataset[\"Age\"], bins=8)\n",
    "plt.axvline(x = min_age, color=\"black\", label=\"min_age\")\n",
    "plt.axvline(x=max_age, color=\"green\", label=\"max_age\")\n",
    "plt.axvline(x=age_range, color=\"red\", label=\"range\")\n",
    "plt.legend()\n",
    "plt.show()"
   ]
  },
  {
   "cell_type": "markdown",
   "id": "e9c5829e-4bec-4d02-a7ab-b295ba2866c8",
   "metadata": {},
   "source": [
    "### Mean Absolute Deviation (MAD)"
   ]
  },
  {
   "cell_type": "code",
   "execution_count": 69,
   "id": "3bf46b85-533d-481d-9bb8-1a6b53ec1076",
   "metadata": {},
   "outputs": [
    {
     "name": "stdout",
     "output_type": "stream",
     "text": [
      "Mean are same\n",
      "Mean of Section A: 70.0\n",
      "Mean of Section B: 70.0\n"
     ]
    },
    {
     "data": {
      "image/png": "[encoded data removed]",
      "text/plain": [
       "<Figure size 640x480 with 1 Axes>"
      ]
     },
     "metadata": {},
     "output_type": "display_data"
    }
   ],
   "source": [
    "import matplotlib.pyplot as plt\n",
    "import numpy as np\n",
    "\n",
    "names = [\"Raj\", \"Tina\", \"Mina\", \"Samyog\", \"Birsky\", \"YB\"]\n",
    "\n",
    "scores_a = [75, 65, 73, 68, 72, 67]\n",
    "scores_b = [90, 47, 43, 96, 93, 51]\n",
    "\n",
    "# Plot both sections\n",
    "plt.plot(names, scores_a, color=\"black\", marker=\"o\", label=\"Section A\")\n",
    "plt.plot(names, scores_b, color=\"red\", marker=\"o\", label=\"Section B\")\n",
    "\n",
    "plt.legend()\n",
    "\n",
    "# Compute means\n",
    "mean_a = np.mean(scores_a)\n",
    "mean_b = np.mean(scores_b)\n",
    "\n",
    "print(\"Mean are same\")\n",
    "print(\"Mean of Section A:\", mean_a)\n",
    "print(\"Mean of Section B:\", mean_b)"
   ]
  },
  {
   "cell_type": "code",
   "execution_count": null,
   "id": "e1fb2185-a818-4e6b-a3fc-30ad9e834bc6",
   "metadata": {},
   "outputs": [],
   "source": []
  }
 ],
 "metadata": {
  "kernelspec": {
   "display_name": "Python 3 (ipykernel)",
   "language": "python",
   "name": "python3"
  },
  "language_info": {
   "codemirror_mode": {
    "name": "ipython",
    "version": 3
   },
   "file_extension": ".py",
   "mimetype": "text/x-python",
   "name": "python",
   "nbconvert_exporter": "python",
   "pygments_lexer": "ipython3",
   "version": "3.12.5"
  }
 },
 "nbformat": 4,
 "nbformat_minor": 5
}
