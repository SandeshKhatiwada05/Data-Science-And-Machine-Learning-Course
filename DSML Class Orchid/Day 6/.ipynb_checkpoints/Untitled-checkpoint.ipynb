{
 "cells": [
  {
   "cell_type": "code",
   "execution_count": 4,
   "id": "8a13546b-c6b7-468a-a7ae-33d97c1052d0",
   "metadata": {},
   "outputs": [],
   "source": [
    "import numpy as np\n",
    "import pandas as pd\n",
    "import matplotlib.pyplot as plt"
   ]
  },
  {
   "cell_type": "code",
   "execution_count": 5,
   "id": "a95bc2d5-c84d-4286-b15e-9f8f0d2ad0d8",
   "metadata": {},
   "outputs": [],
   "source": [
    "data = pd.read_csv(\"diabetes.csv\")"
   ]
  },
  {
   "cell_type": "code",
   "execution_count": 13,
   "id": "15940798-a348-4caf-a7fa-849a2305836a",
   "metadata": {},
   "outputs": [],
   "source": [
    "y = data['Outcome']"
   ]
  },
  {
   "cell_type": "code",
   "execution_count": 14,
   "id": "d41baa22-a622-45ce-a174-1dfb0cf374e1",
   "metadata": {},
   "outputs": [],
   "source": [
    "X = data.drop(\"Outcome\", axis=1)   # all columns except 'Outcome'"
   ]
  },
  {
   "cell_type": "code",
   "execution_count": 6,
   "id": "d0310c6e-5e7e-4d67-ade7-1bd8acea921d",
   "metadata": {},
   "outputs": [],
   "source": [
    "from sklearn.neighbors import KNeighborsClassifier"
   ]
  },
  {
   "cell_type": "code",
   "execution_count": 15,
   "id": "c66326ac-98f5-4481-bb40-8eaa446e918f",
   "metadata": {},
   "outputs": [],
   "source": [
    "from sklearn.model_selection import train_test_split"
   ]
  },
  {
   "cell_type": "code",
   "execution_count": 16,
   "id": "65931d77-1340-4fa8-9145-eb78d176b679",
   "metadata": {},
   "outputs": [],
   "source": [
    "X_train, X_test, y_train, y_test = train_test_split(X, y, test_size=0.33, random_state=42, stratify = y)"
   ]
  },
  {
   "cell_type": "code",
   "execution_count": 17,
   "id": "ff0d0a86-806b-4e69-8cb3-03e0edafea2b",
   "metadata": {},
   "outputs": [],
   "source": [
    "knn_classifier = KNeighborsClassifier(n_neighbors = 5)"
   ]
  },
  {
   "cell_type": "code",
   "execution_count": 18,
   "id": "13b6530a-f4c6-4f6d-97c7-731d4577ea90",
   "metadata": {},
   "outputs": [
    {
     "ename": "NameError",
     "evalue": "name 'n_neighbors' is not defined",
     "output_type": "error",
     "traceback": [
      "\u001b[1;31m---------------------------------------------------------------------------\u001b[0m",
      "\u001b[1;31mNameError\u001b[0m                                 Traceback (most recent call last)",
      "Cell \u001b[1;32mIn[18], line 1\u001b[0m\n\u001b[1;32m----> 1\u001b[0m model_knn \u001b[38;5;241m=\u001b[39m \u001b[43mn_neighbors\u001b[49m\u001b[38;5;241m.\u001b[39mfit(X_train , y_train)\n",
      "\u001b[1;31mNameError\u001b[0m: name 'n_neighbors' is not defined"
     ]
    }
   ],
   "source": [
    "model_knn = n_neighbors.fit(X_train , y_train)"
   ]
  },
  {
   "cell_type": "raw",
   "id": "c97b2e5b-3d26-4f28-a9fc-a46a4198527d",
   "metadata": {},
   "source": [
    "y_pred_knn = model_knn.predict(X_test)"
   ]
  },
  {
   "cell_type": "code",
   "execution_count": 11,
   "id": "6f6d629f-60c4-44b7-8867-0ba1f85bb85d",
   "metadata": {},
   "outputs": [
    {
     "ename": "NameError",
     "evalue": "name 'accuracy_score' is not defined",
     "output_type": "error",
     "traceback": [
      "\u001b[1;31m---------------------------------------------------------------------------\u001b[0m",
      "\u001b[1;31mNameError\u001b[0m                                 Traceback (most recent call last)",
      "Cell \u001b[1;32mIn[11], line 1\u001b[0m\n\u001b[1;32m----> 1\u001b[0m acc_knn \u001b[38;5;241m=\u001b[39m \u001b[43maccuracy_score\u001b[49m(y_test , y_pred_knn)\n",
      "\u001b[1;31mNameError\u001b[0m: name 'accuracy_score' is not defined"
     ]
    }
   ],
   "source": [
    "acc_knn = accuracy_score(y_test , y_pred_knn)"
   ]
  },
  {
   "cell_type": "code",
   "execution_count": 12,
   "id": "1ea0cd17-17e5-401d-9706-7146b97a9dfc",
   "metadata": {},
   "outputs": [
    {
     "ename": "NameError",
     "evalue": "name 'acc_knn' is not defined",
     "output_type": "error",
     "traceback": [
      "\u001b[1;31m---------------------------------------------------------------------------\u001b[0m",
      "\u001b[1;31mNameError\u001b[0m                                 Traceback (most recent call last)",
      "Cell \u001b[1;32mIn[12], line 1\u001b[0m\n\u001b[1;32m----> 1\u001b[0m \u001b[43macc_knn\u001b[49m\n",
      "\u001b[1;31mNameError\u001b[0m: name 'acc_knn' is not defined"
     ]
    }
   ],
   "source": [
    "acc_knn"
   ]
  },
  {
   "cell_type": "code",
   "execution_count": null,
   "id": "22138bd4-5725-4743-8caa-770212e6862f",
   "metadata": {},
   "outputs": [],
   "source": []
  }
 ],
 "metadata": {
  "kernelspec": {
   "display_name": "Python 3 (ipykernel)",
   "language": "python",
   "name": "python3"
  },
  "language_info": {
   "codemirror_mode": {
    "name": "ipython",
    "version": 3
   },
   "file_extension": ".py",
   "mimetype": "text/x-python",
   "name": "python",
   "nbconvert_exporter": "python",
   "pygments_lexer": "ipython3",
   "version": "3.12.5"
  }
 },
 "nbformat": 4,
 "nbformat_minor": 5
}
