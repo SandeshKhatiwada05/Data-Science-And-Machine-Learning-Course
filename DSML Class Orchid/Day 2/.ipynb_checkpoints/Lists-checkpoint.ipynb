{
 "cells": [
  {
   "cell_type": "markdown",
   "id": "da7f3518-12ff-4954-a99a-a0830842f200",
   "metadata": {},
   "source": [
    "##### Lists are one of the most commonly used features in data science, so we will learn about them today."
   ]
  },
  {
   "cell_type": "code",
   "execution_count": 14,
   "id": "de08f85d-b66a-49a4-81f0-c0efa7556534",
   "metadata": {},
   "outputs": [],
   "source": [
    "#basic creation of list\n",
    "l = [3,5,6 ,\"apple\", 4.50] "
   ]
  },
  {
   "cell_type": "code",
   "execution_count": 15,
   "id": "a65648b6-d371-43cc-8bd2-ca3e60bc0d14",
   "metadata": {},
   "outputs": [
    {
     "data": {
      "text/plain": [
       "[3, 5, 6, 'apple', 4.5]"
      ]
     },
     "execution_count": 15,
     "metadata": {},
     "output_type": "execute_result"
    }
   ],
   "source": [
    "#to print list\n",
    "l"
   ]
  },
  {
   "cell_type": "code",
   "execution_count": 16,
   "id": "cff14416-0a67-4c1c-956a-c592b77441d0",
   "metadata": {},
   "outputs": [
    {
     "data": {
      "text/plain": [
       "list"
      ]
     },
     "execution_count": 16,
     "metadata": {},
     "output_type": "execute_result"
    }
   ],
   "source": [
    "#print list types\n",
    "type(l)"
   ]
  },
  {
   "cell_type": "code",
   "execution_count": 17,
   "id": "1d697944-74ee-4507-b98b-f4673d389cfa",
   "metadata": {},
   "outputs": [
    {
     "data": {
      "text/plain": [
       "3"
      ]
     },
     "execution_count": 17,
     "metadata": {},
     "output_type": "execute_result"
    }
   ],
   "source": [
    "#print list index\n",
    "l[0]"
   ]
  },
  {
   "cell_type": "code",
   "execution_count": 18,
   "id": "5c1554a4-dddb-4004-9309-85727db22856",
   "metadata": {},
   "outputs": [
    {
     "data": {
      "text/plain": [
       "[500, 5, 6, 'apple', 4.5]"
      ]
     },
     "execution_count": 18,
     "metadata": {},
     "output_type": "execute_result"
    }
   ],
   "source": [
    "#altering the list\n",
    "l[0] = 500\n",
    "l"
   ]
  },
  {
   "cell_type": "code",
   "execution_count": 22,
   "id": "61de1164-554d-4f0c-91c7-9ba7435a8d67",
   "metadata": {},
   "outputs": [
    {
     "name": "stdout",
     "output_type": "stream",
     "text": [
      "found\n",
      "apple found\n"
     ]
    }
   ],
   "source": [
    "#check item in lists\n",
    "if 5 in l:\n",
    "    print(\"found\")\n",
    "else:\n",
    "    print(\"Not found\")\n",
    "\n",
    "#also for string\n",
    "if \"apple\" in l:\n",
    "    print(\"apple found\")\n",
    "else:\n",
    "    print(\"apple not found\")"
   ]
  },
  {
   "cell_type": "code",
   "execution_count": 31,
   "id": "1b093422-1ebe-43fd-87bc-c670402550fd",
   "metadata": {},
   "outputs": [
    {
     "name": "stdout",
     "output_type": "stream",
     "text": [
      "[500, 5, 6, 'apple', 4.5]\n",
      "[5, 6, 'apple', 4.5]\n",
      "[5, 'apple']\n"
     ]
    }
   ],
   "source": [
    "#print via index\n",
    "print(l[:])\n",
    "print(l[1:])\n",
    "print(l[1:4:2]) #start: end: jump"
   ]
  },
  {
   "cell_type": "markdown",
   "id": "fc57cfde-8b8c-4a4a-8579-435087d907ee",
   "metadata": {},
   "source": [
    "#### list comprehension"
   ]
  },
  {
   "cell_type": "code",
   "execution_count": 43,
   "id": "f16d8e92-bb8f-45ee-bb58-0198baaefbdd",
   "metadata": {},
   "outputs": [
    {
     "name": "stdout",
     "output_type": "stream",
     "text": [
      "[1, 2, 3, 4]\n",
      "[10, 9, 8, 7, 6, 5, 4, 3, 2]\n"
     ]
    }
   ],
   "source": [
    "lst_ascending = [i for i  in range (1 , 5)]\n",
    "lst_descending = [i for i in range(10, 1, -1)]\n",
    "print(lst_ascending)\n",
    "print(lst_descending)  "
   ]
  },
  {
   "cell_type": "code",
   "execution_count": 2,
   "id": "0f7c33f4-b672-4ba6-b52f-5b85ebe34373",
   "metadata": {},
   "outputs": [
    {
     "name": "stdout",
     "output_type": "stream",
     "text": [
      "[0, 1, 4, 9, 16]\n"
     ]
    }
   ],
   "source": [
    "#Basic list for range\n",
    "squares = [x**2 for x in range(5)]\n",
    "print(squares)  # Output: [0, 1, 4, 9, 16]"
   ]
  },
  {
   "cell_type": "code",
   "execution_count": null,
   "id": "0efd2e12-277b-4874-8584-27a04d76468b",
   "metadata": {},
   "outputs": [],
   "source": [
    "#with conditions\n",
    "evens = [x for x in range(10) if x % 2 == 0]\n",
    "print(evens)  # Output: [0, 2, 4, 6, 8]"
   ]
  }
 ],
 "metadata": {
  "kernelspec": {
   "display_name": "Python 3 (ipykernel)",
   "language": "python",
   "name": "python3"
  },
  "language_info": {
   "codemirror_mode": {
    "name": "ipython",
    "version": 3
   },
   "file_extension": ".py",
   "mimetype": "text/x-python",
   "name": "python",
   "nbconvert_exporter": "python",
   "pygments_lexer": "ipython3",
   "version": "3.12.5"
  }
 },
 "nbformat": 4,
 "nbformat_minor": 5
}
