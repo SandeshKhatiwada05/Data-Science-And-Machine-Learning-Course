{
 "cells": [
  {
   "cell_type": "code",
   "execution_count": 1,
   "id": "b8f317fe-8310-4175-8020-d82e2270912a",
   "metadata": {},
   "outputs": [],
   "source": [
    "import numpy as np"
   ]
  },
  {
   "cell_type": "markdown",
   "id": "fb40c879-1a26-458b-a70b-29d53aa03025",
   "metadata": {},
   "source": [
    "### Numpy Arrays vs List Speed Calculation"
   ]
  },
  {
   "cell_type": "code",
   "execution_count": 2,
   "id": "4380167d-c2b4-4dba-b7d3-ac4ca9691a8f",
   "metadata": {},
   "outputs": [
    {
     "name": "stdout",
     "output_type": "stream",
     "text": [
      "Delay time in general python list:  0.9478585720062256\n",
      "Delay time in numpy arrays:  0.06412410736083984\n"
     ]
    }
   ],
   "source": [
    "#Basic Python Lists\n",
    "import time\n",
    "start_time = time.time()\n",
    "python_list = [i*2 for i in range(10000000)]\n",
    "end_time = time.time()\n",
    "delay_time = end_time - start_time\n",
    "print(\"Delay time in general python list: \", delay_time)\n",
    "\n",
    "\n",
    "#Numpy \n",
    "start_time_numpy = time.time()\n",
    "numpy_array = 2*np.arange(10000000)\n",
    "end_time_numpy = time.time()\n",
    "delay_time_numpy = end_time_numpy - start_time_numpy\n",
    "print(\"Delay time in numpy arrays: \", delay_time_numpy)"
   ]
  },
  {
   "cell_type": "markdown",
   "id": "9fe067ec-0ecd-4f57-80b9-c5dc222fb4a2",
   "metadata": {},
   "source": [
    "### Creating arrays"
   ]
  },
  {
   "cell_type": "code",
   "execution_count": 3,
   "id": "435688f3-3eb2-4419-8dac-45de3d429b0c",
   "metadata": {},
   "outputs": [],
   "source": [
    "arr = np.array([1, 2, 3])              # 1D array\n",
    "mat = np.array([[1, 2], [3, 4]])       # 2D array\n",
    "zeros = np.zeros((2, 3))              # 2x3 array of zeros\n",
    "ones = np.ones((2, 2))                # 2x2 array of ones\n",
    "empty = np.empty((2, 3))              # uninitialized\n",
    "range_arr = np.arange(0, 10, 2)       # [0, 2, 4, 6, 8]\n",
    "lin_arr = np.linspace(0, 1, 5)        # [0. , 0.25, ..., 1.]\n",
    "identity = np.eye(3)                  # 3x3 identity matrix"
   ]
  },
  {
   "cell_type": "code",
   "execution_count": 5,
   "id": "689b76f6-6eae-477c-b93a-e6307aef1bd1",
   "metadata": {},
   "outputs": [
    {
     "name": "stdout",
     "output_type": "stream",
     "text": [
      "(3,)\n",
      "1\n",
      "3\n",
      "int32\n"
     ]
    }
   ],
   "source": [
    "print(arr.shape)          # (3,) – dimensions\n",
    "print(arr.ndim)           # 1 – number of dimensions\n",
    "print(arr.size)           # 3 – total elements\n",
    "print(arr.dtype)          # data type (e.g., int64)"
   ]
  },
  {
   "cell_type": "code",
   "execution_count": null,
   "id": "8898cfe4-6a4a-42b8-b00f-37d671510cf5",
   "metadata": {},
   "outputs": [],
   "source": []
  }
 ],
 "metadata": {
  "kernelspec": {
   "display_name": "Python 3 (ipykernel)",
   "language": "python",
   "name": "python3"
  },
  "language_info": {
   "codemirror_mode": {
    "name": "ipython",
    "version": 3
   },
   "file_extension": ".py",
   "mimetype": "text/x-python",
   "name": "python",
   "nbconvert_exporter": "python",
   "pygments_lexer": "ipython3",
   "version": "3.12.5"
  }
 },
 "nbformat": 4,
 "nbformat_minor": 5
}
