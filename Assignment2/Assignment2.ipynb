{
  "nbformat": 4,
  "nbformat_minor": 0,
  "metadata": {
    "colab": {
      "provenance": []
    },
    "kernelspec": {
      "name": "python3",
      "display_name": "Python 3"
    },
    "language_info": {
      "name": "python"
    }
  },
  "cells": [
    {
      "cell_type": "code",
      "source": [
        "import numpy as np"
      ],
      "metadata": {
        "id": "cEW6Ok83VbwK"
      },
      "execution_count": 1,
      "outputs": []
    },
    {
      "cell_type": "markdown",
      "source": [
        "### Array Creation"
      ],
      "metadata": {
        "id": "i1tsaIufVKAP"
      }
    },
    {
      "cell_type": "code",
      "execution_count": 3,
      "metadata": {
        "colab": {
          "base_uri": "https://localhost:8080/"
        },
        "id": "bp43mGpgUigd",
        "outputId": "cc19775a-5927-4983-b169-51b3f4e0ed9f"
      },
      "outputs": [
        {
          "output_type": "execute_result",
          "data": {
            "text/plain": [
              "array([ 1,  2,  3,  4,  5,  6,  7,  8,  9, 10])"
            ]
          },
          "metadata": {},
          "execution_count": 3
        }
      ],
      "source": [
        "#1-dimensional array of integers from 1 to 10.\n",
        "array1 = np.arange(1,11)\n",
        "array1"
      ]
    },
    {
      "cell_type": "code",
      "source": [
        "#2-dimensional array with random float values of shape (3, 4).\n",
        "array2 = np.random.rand(3,4)\n",
        "array2"
      ],
      "metadata": {
        "colab": {
          "base_uri": "https://localhost:8080/"
        },
        "id": "vYh4JFlIVnU3",
        "outputId": "276a073f-3723-425a-ac11-fea588303255"
      },
      "execution_count": 5,
      "outputs": [
        {
          "output_type": "execute_result",
          "data": {
            "text/plain": [
              "array([[0.56177447, 0.25112734, 0.37403771, 0.31595353],\n",
              "       [0.33330218, 0.9043981 , 0.43234581, 0.66089986],\n",
              "       [0.30518854, 0.71518162, 0.57506181, 0.89036983]])"
            ]
          },
          "metadata": {},
          "execution_count": 5
        }
      ]
    },
    {
      "cell_type": "code",
      "source": [
        "#3-dimensional array of zeros with shape (2, 3, 4).\n",
        "arrayzeros = np.zeros((2,3,4))\n",
        "arrayzeros"
      ],
      "metadata": {
        "colab": {
          "base_uri": "https://localhost:8080/"
        },
        "id": "HfkPbYsXVwqm",
        "outputId": "7da57364-a212-4fc7-d6e6-3af80037a4a8"
      },
      "execution_count": 7,
      "outputs": [
        {
          "output_type": "execute_result",
          "data": {
            "text/plain": [
              "array([[[0., 0., 0., 0.],\n",
              "        [0., 0., 0., 0.],\n",
              "        [0., 0., 0., 0.]],\n",
              "\n",
              "       [[0., 0., 0., 0.],\n",
              "        [0., 0., 0., 0.],\n",
              "        [0., 0., 0., 0.]]])"
            ]
          },
          "metadata": {},
          "execution_count": 7
        }
      ]
    },
    {
      "cell_type": "markdown",
      "source": [
        "### Array Operations"
      ],
      "metadata": {
        "id": "dxvN-X36WYxZ"
      }
    },
    {
      "cell_type": "code",
      "source": [
        "#Given two 1-dimensional arrays, perform element-wise addition, subtraction, multiplication, and division.\n",
        "array1 = np.array([2,3,4,5])\n",
        "array2 = np.array([3,2,1,1])\n",
        "\n",
        "#Addtional\n",
        "arrayAddtion = array1 + array2\n",
        "print(\"Array Addition: \", arrayAddtion)\n",
        "\n",
        "#Subtraction\n",
        "arraySubtraction = array1 - array2\n",
        "print(\"Array Subtraction: \", arraySubtraction)\n",
        "\n",
        "#multiplication\n",
        "arrayMultiplication = array1 * array2\n",
        "print(\"Array Multiplication: \", arrayMultiplication)\n",
        "\n",
        "#division\n",
        "arrayDivision = array1 / array2\n",
        "print(\"Array Division: \", arrayDivision)"
      ],
      "metadata": {
        "colab": {
          "base_uri": "https://localhost:8080/"
        },
        "id": "e-Pm-HOzWFv9",
        "outputId": "bc3499f4-4a8b-4e6c-c576-6fe0a5ae52a7"
      },
      "execution_count": 20,
      "outputs": [
        {
          "output_type": "stream",
          "name": "stdout",
          "text": [
            "Array Addition:  [5 5 5 6]\n",
            "Array Subtraction:  [-1  1  3  4]\n",
            "Array Multiplication:  [6 6 4 5]\n",
            "Array Division:  [0.66666667 1.5        4.         5.        ]\n"
          ]
        }
      ]
    },
    {
      "cell_type": "code",
      "source": [
        "#mean, median, and standard deviation of a given 1-dimensional array.\n",
        "arrayy = [2,3,4,1]\n",
        "\n",
        "#mean\n",
        "arrayMean = np.mean(arrayy)\n",
        "print(\"Mean: \", arrayMean)\n",
        "\n",
        "#median\n",
        "arrayMedian = np.median(arrayy)\n",
        "print(\"Median: \", arrayMedian)\n",
        "\n",
        "arraySD = np.std(arrayy)\n",
        "print(\"Standard Deviation: \", arraySD)"
      ],
      "metadata": {
        "colab": {
          "base_uri": "https://localhost:8080/"
        },
        "id": "brkKInTzWsC6",
        "outputId": "75d429f9-0c2d-4d2e-e581-68a44fe8f9f3"
      },
      "execution_count": 28,
      "outputs": [
        {
          "output_type": "stream",
          "name": "stdout",
          "text": [
            "Mean:  2.5\n",
            "Median:  2.5\n",
            "Standard Deviation:  1.118033988749895\n"
          ]
        }
      ]
    },
    {
      "cell_type": "code",
      "source": [
        "# Reshape a 1-dimensional array into a 2-dimensional array of shape (3,4).\n",
        "oneD = np.random.randint(0,5, size=12)\n",
        "print(oneD)\n",
        "\n",
        "oneD_to_twoD = oneD.reshape(3,4)\n",
        "print(oneD_to_twoD)"
      ],
      "metadata": {
        "colab": {
          "base_uri": "https://localhost:8080/"
        },
        "id": "OTr2UI84YHEc",
        "outputId": "e52ee0f5-0b8e-4da4-bc01-489e0c09623a"
      },
      "execution_count": 37,
      "outputs": [
        {
          "output_type": "stream",
          "name": "stdout",
          "text": [
            "[3 1 4 4 4 4 4 0 2 0 2 2]\n",
            "[[3 1 4 4]\n",
            " [4 4 4 0]\n",
            " [2 0 2 2]]\n"
          ]
        }
      ]
    },
    {
      "cell_type": "markdown",
      "source": [
        "### Array Indexing and Slicing:"
      ],
      "metadata": {
        "id": "8uKqjenhaMc7"
      }
    },
    {
      "cell_type": "code",
      "source": [
        "# Extract the first row and last column of a 2-dimensional array.\n",
        "two_D_array = np.array([[10, 20, 30, 40],\n",
        "                       [50, 60, 70, 80],\n",
        "                       [90, 100, 110, 120]])\n",
        "print(two_D_array)\n",
        "\n",
        "#to extract first row\n",
        "first_row = two_D_array[0]\n",
        "print(\"\\nFirst Row: \",first_row)\n",
        "\n",
        "#to extract last column\n",
        "last_column = two_D_array[:, -1]\n",
        "print(\"\\nLast Column: \",last_column)\n"
      ],
      "metadata": {
        "colab": {
          "base_uri": "https://localhost:8080/"
        },
        "id": "H9u9oNDQZcol",
        "outputId": "349f93e9-689b-4eed-cf09-ea5cac792b8d"
      },
      "execution_count": 46,
      "outputs": [
        {
          "output_type": "stream",
          "name": "stdout",
          "text": [
            "[[ 10  20  30  40]\n",
            " [ 50  60  70  80]\n",
            " [ 90 100 110 120]]\n",
            "\n",
            "First Row:  [10 20 30 40]\n",
            "\n",
            "Last Column:  [ 40  80 120]\n"
          ]
        }
      ]
    },
    {
      "cell_type": "code",
      "source": [
        "#Reverse the order of elements in a 1-dimensional array.\n",
        "array = np.array([1,2,3,4,5])\n",
        "reversed_array = array[::-1]\n",
        "print(reversed_array)"
      ],
      "metadata": {
        "colab": {
          "base_uri": "https://localhost:8080/"
        },
        "id": "ddX6uY4Jabdq",
        "outputId": "7fe83413-612c-4cf1-b33c-b7261834ddeb"
      },
      "execution_count": 48,
      "outputs": [
        {
          "output_type": "stream",
          "name": "stdout",
          "text": [
            "[5 4 3 2 1]\n"
          ]
        }
      ]
    },
    {
      "cell_type": "code",
      "source": [
        "# Select elements from a 2-dimensional array that satisfy a specificcondition (e.g., values greater than a certain threshold).\n",
        "two_D_array = np.array([[4,5,6,3],\n",
        "                       [9,8,7,6]])\n",
        "\n",
        "#check even number\n",
        "two_D_array_even = two_D_array[two_D_array % 2 == 0]\n",
        "print(\"Conditional arrays: \",two_D_array_even)"
      ],
      "metadata": {
        "colab": {
          "base_uri": "https://localhost:8080/"
        },
        "id": "Yzy1fS-xbkdk",
        "outputId": "4c84468f-bb24-4f4a-d4b3-006e3a6ac22f"
      },
      "execution_count": 56,
      "outputs": [
        {
          "output_type": "stream",
          "name": "stdout",
          "text": [
            "Conditional arrays:  [4 6 8 6]\n"
          ]
        }
      ]
    },
    {
      "cell_type": "markdown",
      "source": [
        "### Array Broadcasting"
      ],
      "metadata": {
        "id": "460tvW_8d9rz"
      }
    },
    {
      "cell_type": "code",
      "source": [
        "#Add a scalar value to each element of a 2-dimensional array.\n",
        "arr2_b = np.array([[1, 2, 3],\n",
        "                   [4, 5, 6]])\n",
        "\n",
        "array_with_scalar = arr2_b + 5\n",
        "print(array_with_scalar)"
      ],
      "metadata": {
        "colab": {
          "base_uri": "https://localhost:8080/"
        },
        "id": "yuvr8Ujzd7se",
        "outputId": "6c266e75-d640-4ede-e95d-92ba26d10f29"
      },
      "execution_count": 57,
      "outputs": [
        {
          "output_type": "stream",
          "name": "stdout",
          "text": [
            "[[ 6  7  8]\n",
            " [ 9 10 11]]\n"
          ]
        }
      ]
    },
    {
      "cell_type": "code",
      "source": [
        "# Multiply a 1-dimensional array with a 2-dimensional array, leveraging NumPy's broadcasting rules.\n",
        "one_D = np.array([2, 3],)\n",
        "two_D = np.array([[1],\n",
        "                  [4]])\n",
        "multiply_differnt_dimensions = oneD * two_D\n",
        "print(multiply_differnt_dimensions)"
      ],
      "metadata": {
        "colab": {
          "base_uri": "https://localhost:8080/"
        },
        "id": "YsE7j23AcRvr",
        "outputId": "0cafa7e6-70a9-4651-856f-de2fd8999921"
      },
      "execution_count": 61,
      "outputs": [
        {
          "output_type": "stream",
          "name": "stdout",
          "text": [
            "[[ 3  1  4  4  4  4  4  0  2  0  2  2]\n",
            " [12  4 16 16 16 16 16  0  8  0  8  8]]\n"
          ]
        }
      ]
    },
    {
      "cell_type": "markdown",
      "source": [
        "### Linear Algebra"
      ],
      "metadata": {
        "id": "L1R3uQUPj-MY"
      }
    },
    {
      "cell_type": "code",
      "source": [
        "# Calculate the dot product of two 1-dimensional arrays.\n",
        "arr1 = np.array([1,2,3,4])\n",
        "arr2 = np.array([6,7,2,3])\n",
        "dot_array = np.dot(arr1, arr2)\n",
        "print(\"Dot product is: \", dot_array)"
      ],
      "metadata": {
        "colab": {
          "base_uri": "https://localhost:8080/"
        },
        "id": "DcMGRE9Fe5Wo",
        "outputId": "d6386a22-19f6-4334-abee-e64e9714de8d"
      },
      "execution_count": 67,
      "outputs": [
        {
          "output_type": "stream",
          "name": "stdout",
          "text": [
            "Dot product is:  38\n"
          ]
        }
      ]
    },
    {
      "cell_type": "code",
      "source": [
        "# Matrix multiplication (2D)\n",
        "m1 = np.array([[1, 2],\n",
        "               [3, 4]])\n",
        "m2 = np.array([[5, 6],\n",
        "               [7, 8]])\n",
        "matrix_multiplication = np.matmul(m1, m2)\n",
        "print(matrix_multiplication)"
      ],
      "metadata": {
        "colab": {
          "base_uri": "https://localhost:8080/"
        },
        "id": "OpQziO0gkMWS",
        "outputId": "b875e44e-ba60-4657-85c8-398374039b12"
      },
      "execution_count": 68,
      "outputs": [
        {
          "output_type": "stream",
          "name": "stdout",
          "text": [
            "[[19 22]\n",
            " [43 50]]\n"
          ]
        }
      ]
    },
    {
      "cell_type": "code",
      "source": [
        "# Inverse and Determinant of square matrix\n",
        "matrix = np.array([[4, 7],\n",
        "                   [2, 6]])\n",
        "\n",
        "#Inverse\n",
        "print(\"Inverse:\\n\", np.linalg.inv(matrix))\n",
        "\n",
        "#Determinant\n",
        "print(\"\\nDeterminant:\\n\", np.linalg.det(matrix))"
      ],
      "metadata": {
        "colab": {
          "base_uri": "https://localhost:8080/"
        },
        "id": "yRqlb8fMku7X",
        "outputId": "e4ebe2d1-c190-4b64-ae39-9c63532dbca6"
      },
      "execution_count": 70,
      "outputs": [
        {
          "output_type": "stream",
          "name": "stdout",
          "text": [
            "Inverse:\n",
            " [[ 0.6 -0.7]\n",
            " [-0.2  0.4]]\n",
            "\n",
            "Determinant:\n",
            " 10.000000000000002\n"
          ]
        }
      ]
    },
    {
      "cell_type": "markdown",
      "source": [
        "Questions:\n",
        "1. What is the difference between a scalar, vector, and matrix in NumPy?  \n",
        "        Scalar - A single value (0-dimensional). Example: 5 or np.array(5).  \n",
        "        Vector - A 1-dimensional array of values. Example: [1, 2, 3] or np.array([1, 2, 3]).  \n",
        "        Matrix - A 2-dimensional array (rows × columns). Example: [[1, 2], [3, 4]].\n",
        "  \n",
        "  \n",
        "2. How can you create an array with evenly spaced values within a given\n",
        "range?  \n",
        "        Use np.linspace(start, end, num_points) for a specific number of evenly spaced points.  \n",
        "        Use np.arange(start, end, step) for evenly spaced values with a fixed step size.\n",
        "\n",
        "\n",
        "3. Explain the concept of array broadcasting in NumPy.  \n",
        "        Broadcasting allows NumPy to perform operations on arrays of different shapes without making copies.  \n",
        "        Rules:   \n",
        "        *   If shapes differ, NumPy automatically expands the smaller one to match.\n",
        "        *   Works if dimensions are either equal or one of them is 1.\n",
        "\n",
        "\n",
        "\n",
        "4. How can you perform element-wise operations on NumPy arrays?  \n",
        "        Element-wise means operation is applied to each corresponding element:  \n",
        "        Example:  \n",
        "                arr1 + arr2 → adds each element of arr1 to arr2.  \n",
        "        Works for addition, subtraction, multiplication, division, etc., if shapes are compatible (or broadcastable).\n",
        "\n",
        "\n",
        "5. What is the purpose of the np.newaxis in NumPy?  \n",
        "        Used to add a new dimension to an array.  \n",
        "        example:  \n",
        "                  arr.shape  # (3,)  \n",
        "                  arr[:, np.newaxis].shape  # (3, 1)\n",
        "\n",
        "\n",
        "6. How can you sort a NumPy array along a specific axis?  \n",
        "        Use np.sort(arr, axis=0) (sort column-wise) or axis=1 (row-wise).  \n",
        "        np.argsort() returns the indices that would sort the array.\n",
        "\n",
        "\n",
        "7. Explain the difference between np.array and np.asarray functions.  \n",
        "        np.array() always creates a new array (makes a copy).  \n",
        "        np.asarray() does not copy if the input is already a NumPy array (more memory-efficient).\n",
        "8. What are the advantages of using NumPy over Python's built-in lists for\n",
        "numerical operations?  \n",
        "ans:  \n",
        "        *   Faster numerical computations (written in C under the hood).\n",
        "        *   Vectorized operations (no need for loops).\n",
        "        *   Less memory usage.\n",
        "        *   Supports multi-dimensional arrays and advanced math operations easily.\n",
        "\n",
        "\n",
        "\n",
        "\n",
        "9. How can you save and load NumPy arrays to/from disk?  \n",
        "        Save: np.save('file.npy', arr) → saves in binary .npy format.\n",
        "        Load: arr = np.load('file.npy').\n",
        "        For multiple arrays: np.savez('file.npz', arr1=..., arr2=...).\n",
        "\n",
        "\n",
        "10. What is the purpose of the np.where function in NumPy?\n",
        "        Returns indices or values where a condition is True.\n",
        "        Example:\n",
        "        np.where(arr > 5)  # indices where condition is True\n",
        "        np.where(arr > 5, 1, 0)  # replace True with 1, False with 0"
      ],
      "metadata": {
        "id": "kO9LIBOzlIqH"
      }
    }
  ]
}