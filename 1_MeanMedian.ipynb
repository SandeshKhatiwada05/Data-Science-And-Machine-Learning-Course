{
 "cells": [
  {
   "cell_type": "code",
   "execution_count": null,
   "id": "870b4521-f612-446d-8630-76f7a9d0c1ea",
   "metadata": {},
   "outputs": [],
   "source": []
  }
 ],
 "metadata": {
  "kernelspec": {
   "display_name": "",
   "name": ""
  },
  "language_info": {
   "name": ""
  }
 },
 "nbformat": 4,
 "nbformat_minor": 5
}
