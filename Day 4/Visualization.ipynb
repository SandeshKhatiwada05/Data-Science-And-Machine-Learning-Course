{
 "cells": [
  {
   "cell_type": "code",
   "execution_count": 1,
   "id": "ece05991-4543-4cd0-83d5-23a14026182c",
   "metadata": {},
   "outputs": [],
   "source": [
    "#Use matplolib"
   ]
  },
  {
   "cell_type": "code",
   "execution_count": null,
   "id": "7f92a966-6654-4cb8-a785-9a26e5c8e878",
   "metadata": {},
   "outputs": [],
   "source": []
  }
 ],
 "metadata": {
  "kernelspec": {
   "display_name": "Python 3 (ipykernel)",
   "language": "python",
   "name": "python3"
  },
  "language_info": {
   "codemirror_mode": {
    "name": "ipython",
    "version": 3
   },
   "file_extension": ".py",
   "mimetype": "text/x-python",
   "name": "python",
   "nbconvert_exporter": "python",
   "pygments_lexer": "ipython3",
   "version": "3.12.5"
  }
 },
 "nbformat": 4,
 "nbformat_minor": 5
}
