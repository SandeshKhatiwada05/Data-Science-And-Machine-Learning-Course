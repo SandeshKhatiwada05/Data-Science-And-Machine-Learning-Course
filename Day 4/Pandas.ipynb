{
 "cells": [
  {
   "cell_type": "code",
   "execution_count": 9,
   "id": "fa14afbd-b13e-4d5d-895a-165c3d32925e",
   "metadata": {},
   "outputs": [],
   "source": [
    "import pandas as pd\n",
    "import numpy as np"
   ]
  },
  {
   "cell_type": "code",
   "execution_count": 3,
   "id": "d719e221-6de8-451f-adcf-7b8046afd509",
   "metadata": {},
   "outputs": [
    {
     "data": {
      "text/plain": [
       "0    0.25\n",
       "1    0.50\n",
       "2    0.75\n",
       "3    1.00\n",
       "dtype: float64"
      ]
     },
     "execution_count": 3,
     "metadata": {},
     "output_type": "execute_result"
    }
   ],
   "source": [
    "data = pd.Series([0.25, 0.5, 0.75, 1.0])\n",
    "data"
   ]
  },
  {
   "cell_type": "code",
   "execution_count": 8,
   "id": "1d39ef12-2311-4cbd-b0b3-f75e9645d833",
   "metadata": {},
   "outputs": [
    {
     "data": {
      "text/plain": [
       "california    2222\n",
       "la            3333\n",
       "dtype: int64"
      ]
     },
     "execution_count": 8,
     "metadata": {},
     "output_type": "execute_result"
    }
   ],
   "source": [
    "pop_dict = {'california': 2222, 'la': 3333}\n",
    "population = pd.Series(pop_dict)\n",
    "population"
   ]
  },
  {
   "cell_type": "markdown",
   "id": "238b0429-3626-451d-9486-6ac1de51682d",
   "metadata": {},
   "source": [
    "##### List to pandas"
   ]
  },
  {
   "cell_type": "code",
   "execution_count": null,
   "id": "305ce689-d399-4964-a8c2-42b11e1ce522",
   "metadata": {},
   "outputs": [],
   "source": [
    "lst = np.array([\"apple\", \"ball\"])"
   ]
  }
 ],
 "metadata": {
  "kernelspec": {
   "display_name": "Python 3 (ipykernel)",
   "language": "python",
   "name": "python3"
  },
  "language_info": {
   "codemirror_mode": {
    "name": "ipython",
    "version": 3
   },
   "file_extension": ".py",
   "mimetype": "text/x-python",
   "name": "python",
   "nbconvert_exporter": "python",
   "pygments_lexer": "ipython3",
   "version": "3.12.5"
  }
 },
 "nbformat": 4,
 "nbformat_minor": 5
}
