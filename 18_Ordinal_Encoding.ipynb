{
 "cells": [
  {
   "cell_type": "code",
   "execution_count": null,
   "id": "6beebc56-35d5-410f-9797-4dd567ad6c23",
   "metadata": {},
   "outputs": [],
   "source": []
  }
 ],
 "metadata": {
  "kernelspec": {
   "display_name": "",
   "name": ""
  },
  "language_info": {
   "name": ""
  }
 },
 "nbformat": 4,
 "nbformat_minor": 5
}
