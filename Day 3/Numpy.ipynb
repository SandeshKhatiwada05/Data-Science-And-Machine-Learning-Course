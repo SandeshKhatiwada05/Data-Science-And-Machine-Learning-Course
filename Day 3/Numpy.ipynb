{
 "cells": [
  {
   "cell_type": "code",
   "execution_count": 2,
   "id": "dc4d12a2-af67-400b-824a-a61156026b77",
   "metadata": {},
   "outputs": [],
   "source": [
    "import numpy as np"
   ]
  },
  {
   "cell_type": "code",
   "execution_count": 3,
   "id": "085b90f3-5c74-4bb0-8839-814e74ceb760",
   "metadata": {},
   "outputs": [
    {
     "data": {
      "text/plain": [
       "'1.26.4'"
      ]
     },
     "execution_count": 3,
     "metadata": {},
     "output_type": "execute_result"
    }
   ],
   "source": [
    "np.version.version"
   ]
  },
  {
   "cell_type": "code",
   "execution_count": 25,
   "id": "f971f20f-09fb-4d42-a14b-fcb688d19f87",
   "metadata": {},
   "outputs": [],
   "source": [
    "# help(np)"
   ]
  },
  {
   "cell_type": "markdown",
   "id": "4344f59c-4077-4eb6-b388-6eb90462c69f",
   "metadata": {},
   "source": [
    "#### Creating One Dimensional Array"
   ]
  },
  {
   "cell_type": "code",
   "execution_count": 5,
   "id": "4432bf66-2670-4fc5-b64b-082ca91b65cd",
   "metadata": {},
   "outputs": [
    {
     "data": {
      "text/plain": [
       "array([1, 2, 3])"
      ]
     },
     "execution_count": 5,
     "metadata": {},
     "output_type": "execute_result"
    }
   ],
   "source": [
    "vector_a = np.array([1,2,3])\n",
    "vector_a"
   ]
  },
  {
   "cell_type": "code",
   "execution_count": 6,
   "id": "9ab7c828-ed54-418a-93a0-22aa00120095",
   "metadata": {},
   "outputs": [
    {
     "data": {
      "text/plain": [
       "numpy.ndarray"
      ]
     },
     "execution_count": 6,
     "metadata": {},
     "output_type": "execute_result"
    }
   ],
   "source": [
    "type(vector_a)"
   ]
  },
  {
   "cell_type": "code",
   "execution_count": 7,
   "id": "3dfe4b87-2a8d-48f9-8440-6a206b5aff07",
   "metadata": {},
   "outputs": [
    {
     "data": {
      "text/plain": [
       "dtype('int32')"
      ]
     },
     "execution_count": 7,
     "metadata": {},
     "output_type": "execute_result"
    }
   ],
   "source": [
    "vector_a.dtype"
   ]
  },
  {
   "cell_type": "code",
   "execution_count": 9,
   "id": "63fc180e-94fa-4ca9-9eac-806a224dec66",
   "metadata": {},
   "outputs": [
    {
     "data": {
      "text/plain": [
       "array(['1', '2', 'a'], dtype='<U11')"
      ]
     },
     "execution_count": 9,
     "metadata": {},
     "output_type": "execute_result"
    }
   ],
   "source": [
    "vector_b = np.array([1, 2, 'a'])\n",
    "vector_b"
   ]
  },
  {
   "cell_type": "markdown",
   "id": "8b57e1f7-5181-4813-8a69-fd744fe6e95f",
   "metadata": {},
   "source": [
    "### List in array should be even number"
   ]
  },
  {
   "cell_type": "code",
   "execution_count": 11,
   "id": "6c6d0926-9e94-4f7a-b857-e422d4f074e0",
   "metadata": {},
   "outputs": [
    {
     "data": {
      "text/plain": [
       "[2, 4, 6, 8, 10, 12, 14, 16, 18, 20]"
      ]
     },
     "execution_count": 11,
     "metadata": {},
     "output_type": "execute_result"
    }
   ],
   "source": [
    "list_even = [i for i in range (1,21) if i%2==0]\n",
    "list_even"
   ]
  },
  {
   "cell_type": "code",
   "execution_count": 13,
   "id": "515499b2-5bd4-4698-96a9-2fbc1626984f",
   "metadata": {},
   "outputs": [
    {
     "data": {
      "text/plain": [
       "array([ 2,  4,  6,  8, 10, 12, 14, 16, 18, 20])"
      ]
     },
     "execution_count": 13,
     "metadata": {},
     "output_type": "execute_result"
    }
   ],
   "source": [
    "numpy_even = np.array(list_even)\n",
    "numpy_even"
   ]
  },
  {
   "cell_type": "code",
   "execution_count": 18,
   "id": "c2217262-2bfb-48ad-8007-a53952017389",
   "metadata": {},
   "outputs": [
    {
     "data": {
      "text/plain": [
       "array([ 2,  4,  6,  8, 10, 12, 14, 16, 18, 20])"
      ]
     },
     "execution_count": 18,
     "metadata": {},
     "output_type": "execute_result"
    }
   ],
   "source": [
    "#shortcut technique where if else is multiple steps are not used\n",
    "numpy_evenn = np.array([i for i in range (2,21,2)])\n",
    "numpy_evenn"
   ]
  },
  {
   "cell_type": "markdown",
   "id": "933a9b49-d670-4e66-9666-7e181dff68ec",
   "metadata": {},
   "source": [
    "### Multidimensional array"
   ]
  },
  {
   "cell_type": "code",
   "execution_count": 22,
   "id": "ccf6ce2b-9a27-46aa-844d-2fc53b772de4",
   "metadata": {},
   "outputs": [
    {
     "data": {
      "text/plain": [
       "(2, 2)"
      ]
     },
     "execution_count": 22,
     "metadata": {},
     "output_type": "execute_result"
    }
   ],
   "source": [
    "two_dimesional_array = np.array([[1,2] \n",
    "                                ,[3,4]])\n",
    "two_dimesional_array.shape"
   ]
  },
  {
   "cell_type": "code",
   "execution_count": 24,
   "id": "ae366063-d8fe-46fd-b149-39a9962a0bb1",
   "metadata": {},
   "outputs": [
    {
     "ename": "TypeError",
     "evalue": "Field elements must be 2- or 3-tuples, got '3'",
     "output_type": "error",
     "traceback": [
      "\u001b[1;31m---------------------------------------------------------------------------\u001b[0m",
      "\u001b[1;31mTypeError\u001b[0m                                 Traceback (most recent call last)",
      "Cell \u001b[1;32mIn[24], line 1\u001b[0m\n\u001b[1;32m----> 1\u001b[0m multi \u001b[38;5;241m=\u001b[39m \u001b[43mnp\u001b[49m\u001b[38;5;241;43m.\u001b[39;49m\u001b[43marray\u001b[49m\u001b[43m(\u001b[49m\u001b[43m[\u001b[49m\u001b[38;5;241;43m1\u001b[39;49m\u001b[43m,\u001b[49m\u001b[38;5;241;43m2\u001b[39;49m\u001b[43m,\u001b[49m\u001b[38;5;241;43m3\u001b[39;49m\u001b[43m]\u001b[49m\u001b[43m,\u001b[49m\u001b[43m \u001b[49m\u001b[43m[\u001b[49m\u001b[38;5;241;43m3\u001b[39;49m\u001b[43m,\u001b[49m\u001b[38;5;241;43m4\u001b[39;49m\u001b[43m,\u001b[49m\u001b[38;5;241;43m5\u001b[39;49m\u001b[43m,\u001b[49m\u001b[38;5;241;43m6\u001b[39;49m\u001b[43m]\u001b[49m\u001b[43m)\u001b[49m \u001b[38;5;66;03m#throws error, matirx not dimensionally correct\u001b[39;00m\n\u001b[0;32m      2\u001b[0m multi\u001b[38;5;241m.\u001b[39mshape\n",
      "\u001b[1;31mTypeError\u001b[0m: Field elements must be 2- or 3-tuples, got '3'"
     ]
    }
   ],
   "source": [
    "multi = np.array([1,2,3], [3,4,5,6]) #throws error, matirx not dimensionally correct\n",
    "multi.shape"
   ]
  },
  {
   "cell_type": "code",
   "execution_count": 29,
   "id": "f7682bfe-c9a2-4a59-b0b1-a48c6de3eae8",
   "metadata": {},
   "outputs": [
    {
     "name": "stdout",
     "output_type": "stream",
     "text": [
      "[[[[[1 2 3]]]]]\n",
      "(1, 1, 1, 1, 3)\n"
     ]
    }
   ],
   "source": [
    "multi_d = np.array([1,2,3], ndmin=5)\n",
    "print(multi_d)\n",
    "print(multi_d.shape)"
   ]
  },
  {
   "cell_type": "code",
   "execution_count": 31,
   "id": "53c5b17b-4079-4a04-8bed-d786a3b6f557",
   "metadata": {},
   "outputs": [
    {
     "data": {
      "text/plain": [
       "2"
      ]
     },
     "execution_count": 31,
     "metadata": {},
     "output_type": "execute_result"
    }
   ],
   "source": [
    "#to take 2 from this array\n",
    "multi_d[0][0][0][0][1]"
   ]
  },
  {
   "cell_type": "markdown",
   "id": "4d15d7da-a096-4260-af16-1fa504b20e1b",
   "metadata": {},
   "source": [
    "### Making Matrix"
   ]
  },
  {
   "cell_type": "code",
   "execution_count": 34,
   "id": "1d2a505a-27f3-48a0-9cf5-6f3525c5d48c",
   "metadata": {},
   "outputs": [
    {
     "data": {
      "text/plain": [
       "matrix([[1, 2],\n",
       "        [3, 4]])"
      ]
     },
     "execution_count": 34,
     "metadata": {},
     "output_type": "execute_result"
    }
   ],
   "source": [
    "mat_a = np.mat([[1,2], [3,4]])\n",
    "mat_a"
   ]
  },
  {
   "cell_type": "code",
   "execution_count": 38,
   "id": "08667f49-4da8-408b-b1a3-e293bb449d20",
   "metadata": {},
   "outputs": [
    {
     "data": {
      "text/plain": [
       "(2, 2)"
      ]
     },
     "execution_count": 38,
     "metadata": {},
     "output_type": "execute_result"
    }
   ],
   "source": [
    "mat_a.shape"
   ]
  },
  {
   "cell_type": "markdown",
   "id": "2c72adff-03af-4c4c-8922-33336b30b0a6",
   "metadata": {},
   "source": [
    "#### Arrays with Arange"
   ]
  },
  {
   "cell_type": "code",
   "execution_count": 39,
   "id": "25f989a3-603b-4b94-ac13-7d2edd7c1450",
   "metadata": {},
   "outputs": [
    {
     "data": {
      "text/plain": [
       "array([ 0,  1,  2,  3,  4,  5,  6,  7,  8,  9, 10, 11, 12, 13, 14, 15, 16,\n",
       "       17, 18, 19])"
      ]
     },
     "execution_count": 39,
     "metadata": {},
     "output_type": "execute_result"
    }
   ],
   "source": [
    "arange_a = np.arange(20)\n",
    "arange_a"
   ]
  },
  {
   "cell_type": "code",
   "execution_count": 43,
   "id": "7e22959f-758d-43c1-9f9e-7164bdc97d23",
   "metadata": {},
   "outputs": [
    {
     "data": {
      "text/plain": [
       "array([ 7, 14, 21, 28, 35, 42, 49, 56, 63, 70, 77, 84, 91, 98])"
      ]
     },
     "execution_count": 43,
     "metadata": {},
     "output_type": "execute_result"
    }
   ],
   "source": [
    "#multiple of 7 from 0 to 100\n",
    "multiple_seven = np.arange(7, 100, 7)\n",
    "multiple_seven"
   ]
  },
  {
   "cell_type": "markdown",
   "id": "a4962850-5106-4772-95ce-f4058a819f22",
   "metadata": {},
   "source": [
    "#### Creating arrays of ones, zeros and empty"
   ]
  },
  {
   "cell_type": "code",
   "execution_count": 44,
   "id": "fc279175-4ebd-4bdd-81b2-0ee64e518cc0",
   "metadata": {},
   "outputs": [
    {
     "data": {
      "text/plain": [
       "array([0., 0., 0.])"
      ]
     },
     "execution_count": 44,
     "metadata": {},
     "output_type": "execute_result"
    }
   ],
   "source": [
    "zero_demo = np.zeros((3))\n",
    "zero_demo"
   ]
  },
  {
   "cell_type": "code",
   "execution_count": 45,
   "id": "deb52f63-3c7b-426c-af52-e74449b20bf9",
   "metadata": {},
   "outputs": [
    {
     "data": {
      "text/plain": [
       "array([[0., 0., 0., 0.],\n",
       "       [0., 0., 0., 0.],\n",
       "       [0., 0., 0., 0.]])"
      ]
     },
     "execution_count": 45,
     "metadata": {},
     "output_type": "execute_result"
    }
   ],
   "source": [
    "multi_zero = np.zeros((3,4))\n",
    "multi_zero"
   ]
  },
  {
   "cell_type": "code",
   "execution_count": 46,
   "id": "6f783462-aeaf-45f9-acce-d67a6642e375",
   "metadata": {},
   "outputs": [
    {
     "data": {
      "text/plain": [
       "array([[0, 0, 0, 0],\n",
       "       [0, 0, 0, 0],\n",
       "       [0, 0, 0, 0],\n",
       "       [0, 0, 0, 0]])"
      ]
     },
     "execution_count": 46,
     "metadata": {},
     "output_type": "execute_result"
    }
   ],
   "source": [
    "int_zero = np.zeros((4,4), dtype=int)\n",
    "int_zero"
   ]
  },
  {
   "cell_type": "code",
   "execution_count": 55,
   "id": "16ceb6a6-e1b1-4e07-a96a-a289869af9d8",
   "metadata": {},
   "outputs": [
    {
     "data": {
      "text/plain": [
       "array([10., 10., 10., 10., 10., 10., 10., 10., 10., 10.])"
      ]
     },
     "execution_count": 55,
     "metadata": {},
     "output_type": "execute_result"
    }
   ],
   "source": [
    "change_to_ten = 10*np.ones((10))\n",
    "change_to_ten"
   ]
  },
  {
   "cell_type": "code",
   "execution_count": 56,
   "id": "5da68d2c-940f-4080-9fea-d0e14dde94b2",
   "metadata": {},
   "outputs": [
    {
     "data": {
      "text/plain": [
       "array([ 0,  1,  2,  3,  4,  5,  6,  7,  8,  9, 10, 11, 12, 13, 14, 15, 16,\n",
       "       17, 18, 19])"
      ]
     },
     "execution_count": 56,
     "metadata": {},
     "output_type": "execute_result"
    }
   ],
   "source": [
    "slice_b = np.arange(20)\n",
    "slice_b"
   ]
  },
  {
   "cell_type": "markdown",
   "id": "278266a1-c300-4aa5-8891-c9f5f0325ac1",
   "metadata": {},
   "source": [
    "### Slicer"
   ]
  },
  {
   "cell_type": "code",
   "execution_count": 58,
   "id": "58fb744b-fbeb-4243-a8b6-174c9eea9355",
   "metadata": {},
   "outputs": [
    {
     "data": {
      "text/plain": [
       "array([0, 1, 2, 3, 4, 5, 6, 7, 8, 9, 1, 1, 1, 1, 1, 1, 1, 1, 1, 1])"
      ]
     },
     "execution_count": 58,
     "metadata": {},
     "output_type": "execute_result"
    }
   ],
   "source": [
    "slice_b[10:25] = 1\n",
    "slice_b"
   ]
  },
  {
   "cell_type": "code",
   "execution_count": 60,
   "id": "dbaea667-7b29-4e2b-9155-60da96b8fadf",
   "metadata": {},
   "outputs": [
    {
     "data": {
      "text/plain": [
       "array([ 0,  1,  2,  3,  4,  5,  6,  7,  8,  9, 40, 40, 40, 40, 40, 40, 40,\n",
       "       40, 40, 40])"
      ]
     },
     "execution_count": 60,
     "metadata": {},
     "output_type": "execute_result"
    }
   ],
   "source": [
    "#copy can be used for not changing the acutal value\n",
    "slicerr = np.arange(20)\n",
    "slicerr\n",
    "slicerCopy = np.copy(slicerr)\n",
    "slicerCopy[10:25]= 40\n",
    "slicerCopy"
   ]
  },
  {
   "cell_type": "code",
   "execution_count": 62,
   "id": "d1a8deec-23aa-48b3-b0b0-2567fd43bc36",
   "metadata": {},
   "outputs": [
    {
     "data": {
      "text/plain": [
       "array([1, 4])"
      ]
     },
     "execution_count": 62,
     "metadata": {},
     "output_type": "execute_result"
    }
   ],
   "source": [
    "slice_multi_dimesnsional = np.array([[1,2,3], [4,5,6]])\n",
    "slice_multi_dimesnsional[:,0]"
   ]
  },
  {
   "cell_type": "code",
   "execution_count": 64,
   "id": "ac2c7f98-f3ed-4628-a8d8-745d4b8096ff",
   "metadata": {},
   "outputs": [
    {
     "data": {
      "text/plain": [
       "array([[1, 2],\n",
       "       [4, 5]])"
      ]
     },
     "execution_count": 64,
     "metadata": {},
     "output_type": "execute_result"
    }
   ],
   "source": [
    "slice_multi_dimesnsional[:,0:2]"
   ]
  },
  {
   "cell_type": "code",
   "execution_count": 63,
   "id": "42f4c73a-55b1-4ed7-b57d-715fd75d01e9",
   "metadata": {},
   "outputs": [
    {
     "data": {
      "text/plain": [
       "array([1, 2, 3])"
      ]
     },
     "execution_count": 63,
     "metadata": {},
     "output_type": "execute_result"
    }
   ],
   "source": [
    "slice_multi_dimesnsional[:][0]"
   ]
  },
  {
   "cell_type": "markdown",
   "id": "b4cb5379-1ef0-4749-9f4c-7d317e034688",
   "metadata": {},
   "source": [
    "### Boolean Indexing"
   ]
  },
  {
   "cell_type": "code",
   "execution_count": 67,
   "id": "d3feb886-de23-4023-8d63-7778334ed165",
   "metadata": {},
   "outputs": [
    {
     "data": {
      "text/plain": [
       "array([[False, False],\n",
       "       [ True,  True],\n",
       "       [ True,  True]])"
      ]
     },
     "execution_count": 67,
     "metadata": {},
     "output_type": "execute_result"
    }
   ],
   "source": [
    "bool_a = np.array([[1,2], [3,4], [5,6]])\n",
    "bool_idx = (bool_a > 2)\n",
    "bool_idx"
   ]
  },
  {
   "cell_type": "code",
   "execution_count": 68,
   "id": "fcbf6fdd-5be3-40e3-90b6-8ff9391fc58c",
   "metadata": {},
   "outputs": [
    {
     "data": {
      "text/plain": [
       "array([3, 4, 5, 6])"
      ]
     },
     "execution_count": 68,
     "metadata": {},
     "output_type": "execute_result"
    }
   ],
   "source": [
    "bool_a[bool_idx]"
   ]
  },
  {
   "cell_type": "code",
   "execution_count": 72,
   "id": "f2eb53ac-66cf-4910-a43d-34f98f4bbe93",
   "metadata": {},
   "outputs": [
    {
     "data": {
      "text/plain": [
       "array([False, False, False, False])"
      ]
     },
     "execution_count": 72,
     "metadata": {},
     "output_type": "execute_result"
    }
   ],
   "source": [
    "bool_b = np.array(['python', 'Java', 'Ruby', 'Rust'])\n",
    "bool_b == 'Python'"
   ]
  },
  {
   "cell_type": "code",
   "execution_count": 78,
   "id": "90b60a43-b564-4b74-b048-6322b93413b1",
   "metadata": {},
   "outputs": [
    {
     "data": {
      "text/plain": [
       "array([ True, False,  True, False])"
      ]
     },
     "execution_count": 78,
     "metadata": {},
     "output_type": "execute_result"
    }
   ],
   "source": [
    "#either python or ruby\n",
    "(bool_b == 'python') | (bool_b == 'Ruby')"
   ]
  },
  {
   "cell_type": "code",
   "execution_count": 77,
   "id": "e5676866-021d-4995-a827-47714c3d7b22",
   "metadata": {},
   "outputs": [
    {
     "name": "stdout",
     "output_type": "stream",
     "text": [
      "[False False False False False  True  True False  True  True]\n",
      "[60 70 40 60]\n"
     ]
    }
   ],
   "source": [
    "bool_greater_than_ten = np.array([1,2,3,4,5,60, 70,2, 40, 60])\n",
    "bool_indx = (bool_greater_than_ten > 10)\n",
    "print(bool_indx)\n",
    "print(bool_greater_than_ten[bool_indx])"
   ]
  },
  {
   "cell_type": "markdown",
   "id": "57df03f2-6561-47d5-9519-b1b6d56940e8",
   "metadata": {},
   "source": [
    "#### Keep value of 10 students, want marks of student with marks greater than 60 and less and 80"
   ]
  },
  {
   "cell_type": "code",
   "execution_count": 87,
   "id": "51e12d6f-dfd5-4335-80f2-f721c3d65a88",
   "metadata": {},
   "outputs": [
    {
     "data": {
      "text/plain": [
       "array([60, 80, 65, 70, 78, 60, 66, 68])"
      ]
     },
     "execution_count": 87,
     "metadata": {},
     "output_type": "execute_result"
    }
   ],
   "source": [
    "student_info = np.array([50, 60, 80, 65, 70, 78, 60, 59, 66, 68])\n",
    "student_satisfying_criteria = ((student_info >= 60) & (student_info <= 80))\n",
    "student_info[student_satisfying_criteria]"
   ]
  },
  {
   "cell_type": "code",
   "execution_count": 92,
   "id": "9ee409db-62e0-460f-9419-6e08f5a72eea",
   "metadata": {},
   "outputs": [
    {
     "ename": "ValueError",
     "evalue": "operands could not be broadcast together with shapes (3,) (2,) ",
     "output_type": "error",
     "traceback": [
      "\u001b[1;31m---------------------------------------------------------------------------\u001b[0m",
      "\u001b[1;31mValueError\u001b[0m                                Traceback (most recent call last)",
      "Cell \u001b[1;32mIn[92], line 3\u001b[0m\n\u001b[0;32m      1\u001b[0m x \u001b[38;5;241m=\u001b[39m np\u001b[38;5;241m.\u001b[39marray([\u001b[38;5;241m1\u001b[39m,\u001b[38;5;241m2\u001b[39m,\u001b[38;5;241m3\u001b[39m])\n\u001b[0;32m      2\u001b[0m y \u001b[38;5;241m=\u001b[39m np\u001b[38;5;241m.\u001b[39marray([\u001b[38;5;241m1\u001b[39m,\u001b[38;5;241m2\u001b[39m]) \u001b[38;5;66;03m#should have equal value for addition\u001b[39;00m\n\u001b[1;32m----> 3\u001b[0m \u001b[43mx\u001b[49m\u001b[43m \u001b[49m\u001b[38;5;241;43m+\u001b[39;49m\u001b[43m \u001b[49m\u001b[43my\u001b[49m\n",
      "\u001b[1;31mValueError\u001b[0m: operands could not be broadcast together with shapes (3,) (2,) "
     ]
    }
   ],
   "source": [
    "x = np.array([1,2,3])\n",
    "y = np.array([1,2]) #should have equal value for addition\n",
    "x + y"
   ]
  },
  {
   "cell_type": "markdown",
   "id": "cf161f7c-57dd-4516-bbde-aa5c2ab25eaf",
   "metadata": {},
   "source": [
    "#### Transposing matrix"
   ]
  },
  {
   "cell_type": "code",
   "execution_count": 93,
   "id": "ebb1c7b3-90bb-486f-961d-1c8a4db0c56a",
   "metadata": {},
   "outputs": [
    {
     "data": {
      "text/plain": [
       "array([[1, 5],\n",
       "       [2, 6],\n",
       "       [3, 7],\n",
       "       [4, 8]])"
      ]
     },
     "execution_count": 93,
     "metadata": {},
     "output_type": "execute_result"
    }
   ],
   "source": [
    "x = np.array([[1,2,3,4], [5,6,7,8]])\n",
    "x.T"
   ]
  },
  {
   "cell_type": "code",
   "execution_count": null,
   "id": "e43418a2-532c-47f5-9bda-9b594c0acaf4",
   "metadata": {},
   "outputs": [],
   "source": []
  }
 ],
 "metadata": {
  "kernelspec": {
   "display_name": "Python 3 (ipykernel)",
   "language": "python",
   "name": "python3"
  },
  "language_info": {
   "codemirror_mode": {
    "name": "ipython",
    "version": 3
   },
   "file_extension": ".py",
   "mimetype": "text/x-python",
   "name": "python",
   "nbconvert_exporter": "python",
   "pygments_lexer": "ipython3",
   "version": "3.12.5"
  }
 },
 "nbformat": 4,
 "nbformat_minor": 5
}
