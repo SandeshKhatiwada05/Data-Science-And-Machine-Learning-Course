{
 "cells": [
  {
   "cell_type": "code",
   "execution_count": 2,
   "id": "dc4d12a2-af67-400b-824a-a61156026b77",
   "metadata": {},
   "outputs": [],
   "source": [
    "import numpy as np"
   ]
  },
  {
   "cell_type": "code",
   "execution_count": 3,
   "id": "085b90f3-5c74-4bb0-8839-814e74ceb760",
   "metadata": {},
   "outputs": [
    {
     "data": {
      "text/plain": [
       "'1.26.4'"
      ]
     },
     "execution_count": 3,
     "metadata": {},
     "output_type": "execute_result"
    }
   ],
   "source": [
    "np.version.version"
   ]
  },
  {
   "cell_type": "code",
   "execution_count": 25,
   "id": "f971f20f-09fb-4d42-a14b-fcb688d19f87",
   "metadata": {},
   "outputs": [],
   "source": [
    "# help(np)"
   ]
  },
  {
   "cell_type": "markdown",
   "id": "4344f59c-4077-4eb6-b388-6eb90462c69f",
   "metadata": {},
   "source": [
    "#### Creating One Dimensional Array"
   ]
  },
  {
   "cell_type": "code",
   "execution_count": 5,
   "id": "4432bf66-2670-4fc5-b64b-082ca91b65cd",
   "metadata": {},
   "outputs": [
    {
     "data": {
      "text/plain": [
       "array([1, 2, 3])"
      ]
     },
     "execution_count": 5,
     "metadata": {},
     "output_type": "execute_result"
    }
   ],
   "source": [
    "vector_a = np.array([1,2,3])\n",
    "vector_a"
   ]
  },
  {
   "cell_type": "code",
   "execution_count": 6,
   "id": "9ab7c828-ed54-418a-93a0-22aa00120095",
   "metadata": {},
   "outputs": [
    {
     "data": {
      "text/plain": [
       "numpy.ndarray"
      ]
     },
     "execution_count": 6,
     "metadata": {},
     "output_type": "execute_result"
    }
   ],
   "source": [
    "type(vector_a)"
   ]
  },
  {
   "cell_type": "code",
   "execution_count": 7,
   "id": "3dfe4b87-2a8d-48f9-8440-6a206b5aff07",
   "metadata": {},
   "outputs": [
    {
     "data": {
      "text/plain": [
       "dtype('int32')"
      ]
     },
     "execution_count": 7,
     "metadata": {},
     "output_type": "execute_result"
    }
   ],
   "source": [
    "vector_a.dtype"
   ]
  },
  {
   "cell_type": "code",
   "execution_count": 9,
   "id": "63fc180e-94fa-4ca9-9eac-806a224dec66",
   "metadata": {},
   "outputs": [
    {
     "data": {
      "text/plain": [
       "array(['1', '2', 'a'], dtype='<U11')"
      ]
     },
     "execution_count": 9,
     "metadata": {},
     "output_type": "execute_result"
    }
   ],
   "source": [
    "vector_b = np.array([1, 2, 'a'])\n",
    "vector_b"
   ]
  },
  {
   "cell_type": "markdown",
   "id": "8b57e1f7-5181-4813-8a69-fd744fe6e95f",
   "metadata": {},
   "source": [
    "### List in array should be even number"
   ]
  },
  {
   "cell_type": "code",
   "execution_count": 11,
   "id": "6c6d0926-9e94-4f7a-b857-e422d4f074e0",
   "metadata": {},
   "outputs": [
    {
     "data": {
      "text/plain": [
       "[2, 4, 6, 8, 10, 12, 14, 16, 18, 20]"
      ]
     },
     "execution_count": 11,
     "metadata": {},
     "output_type": "execute_result"
    }
   ],
   "source": [
    "list_even = [i for i in range (1,21) if i%2==0]\n",
    "list_even"
   ]
  },
  {
   "cell_type": "code",
   "execution_count": 13,
   "id": "515499b2-5bd4-4698-96a9-2fbc1626984f",
   "metadata": {},
   "outputs": [
    {
     "data": {
      "text/plain": [
       "array([ 2,  4,  6,  8, 10, 12, 14, 16, 18, 20])"
      ]
     },
     "execution_count": 13,
     "metadata": {},
     "output_type": "execute_result"
    }
   ],
   "source": [
    "numpy_even = np.array(list_even)\n",
    "numpy_even"
   ]
  },
  {
   "cell_type": "code",
   "execution_count": 18,
   "id": "c2217262-2bfb-48ad-8007-a53952017389",
   "metadata": {},
   "outputs": [
    {
     "data": {
      "text/plain": [
       "array([ 2,  4,  6,  8, 10, 12, 14, 16, 18, 20])"
      ]
     },
     "execution_count": 18,
     "metadata": {},
     "output_type": "execute_result"
    }
   ],
   "source": [
    "#shortcut technique where if else is multiple steps are not used\n",
    "numpy_evenn = np.array([i for i in range (2,21,2)])\n",
    "numpy_evenn"
   ]
  },
  {
   "cell_type": "markdown",
   "id": "933a9b49-d670-4e66-9666-7e181dff68ec",
   "metadata": {},
   "source": [
    "### Multidimensional array"
   ]
  },
  {
   "cell_type": "code",
   "execution_count": 22,
   "id": "ccf6ce2b-9a27-46aa-844d-2fc53b772de4",
   "metadata": {},
   "outputs": [
    {
     "data": {
      "text/plain": [
       "(2, 2)"
      ]
     },
     "execution_count": 22,
     "metadata": {},
     "output_type": "execute_result"
    }
   ],
   "source": [
    "two_dimesional_array = np.array([[1,2] \n",
    "                                ,[3,4]])\n",
    "two_dimesional_array.shape"
   ]
  },
  {
   "cell_type": "code",
   "execution_count": 24,
   "id": "ae366063-d8fe-46fd-b149-39a9962a0bb1",
   "metadata": {},
   "outputs": [
    {
     "ename": "TypeError",
     "evalue": "Field elements must be 2- or 3-tuples, got '3'",
     "output_type": "error",
     "traceback": [
      "\u001b[1;31m---------------------------------------------------------------------------\u001b[0m",
      "\u001b[1;31mTypeError\u001b[0m                                 Traceback (most recent call last)",
      "Cell \u001b[1;32mIn[24], line 1\u001b[0m\n\u001b[1;32m----> 1\u001b[0m multi \u001b[38;5;241m=\u001b[39m \u001b[43mnp\u001b[49m\u001b[38;5;241;43m.\u001b[39;49m\u001b[43marray\u001b[49m\u001b[43m(\u001b[49m\u001b[43m[\u001b[49m\u001b[38;5;241;43m1\u001b[39;49m\u001b[43m,\u001b[49m\u001b[38;5;241;43m2\u001b[39;49m\u001b[43m,\u001b[49m\u001b[38;5;241;43m3\u001b[39;49m\u001b[43m]\u001b[49m\u001b[43m,\u001b[49m\u001b[43m \u001b[49m\u001b[43m[\u001b[49m\u001b[38;5;241;43m3\u001b[39;49m\u001b[43m,\u001b[49m\u001b[38;5;241;43m4\u001b[39;49m\u001b[43m,\u001b[49m\u001b[38;5;241;43m5\u001b[39;49m\u001b[43m,\u001b[49m\u001b[38;5;241;43m6\u001b[39;49m\u001b[43m]\u001b[49m\u001b[43m)\u001b[49m \u001b[38;5;66;03m#throws error, matirx not dimensionally correct\u001b[39;00m\n\u001b[0;32m      2\u001b[0m multi\u001b[38;5;241m.\u001b[39mshape\n",
      "\u001b[1;31mTypeError\u001b[0m: Field elements must be 2- or 3-tuples, got '3'"
     ]
    }
   ],
   "source": [
    "multi = np.array([1,2,3], [3,4,5,6]) #throws error, matirx not dimensionally correct\n",
    "multi.shape"
   ]
  },
  {
   "cell_type": "code",
   "execution_count": 27,
   "id": "f7682bfe-c9a2-4a59-b0b1-a48c6de3eae8",
   "metadata": {},
   "outputs": [
    {
     "data": {
      "text/plain": [
       "array([[[[[1, 2, 3]]]]])"
      ]
     },
     "execution_count": 27,
     "metadata": {},
     "output_type": "execute_result"
    }
   ],
   "source": [
    "multi_d = np.array([1,2,3], ndmin=5)\n",
    "multi_d"
   ]
  },
  {
   "cell_type": "code",
   "execution_count": null,
   "id": "53c5b17b-4079-4a04-8bed-d786a3b6f557",
   "metadata": {},
   "outputs": [],
   "source": []
  }
 ],
 "metadata": {
  "kernelspec": {
   "display_name": "Python 3 (ipykernel)",
   "language": "python",
   "name": "python3"
  },
  "language_info": {
   "codemirror_mode": {
    "name": "ipython",
    "version": 3
   },
   "file_extension": ".py",
   "mimetype": "text/x-python",
   "name": "python",
   "nbconvert_exporter": "python",
   "pygments_lexer": "ipython3",
   "version": "3.12.5"
  }
 },
 "nbformat": 4,
 "nbformat_minor": 5
}
