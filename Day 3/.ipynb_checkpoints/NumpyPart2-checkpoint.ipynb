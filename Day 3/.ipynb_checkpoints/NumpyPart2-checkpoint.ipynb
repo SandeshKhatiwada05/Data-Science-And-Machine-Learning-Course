{
 "cells": [
  {
   "cell_type": "code",
   "execution_count": 1,
   "id": "b8f317fe-8310-4175-8020-d82e2270912a",
   "metadata": {},
   "outputs": [],
   "source": [
    "import numpy as np"
   ]
  },
  {
   "cell_type": "markdown",
   "id": "fb40c879-1a26-458b-a70b-29d53aa03025",
   "metadata": {},
   "source": [
    "### Numpy Arrays vs List Speed Calculation"
   ]
  },
  {
   "cell_type": "code",
   "execution_count": 14,
   "id": "4380167d-c2b4-4dba-b7d3-ac4ca9691a8f",
   "metadata": {},
   "outputs": [
    {
     "name": "stdout",
     "output_type": "stream",
     "text": [
      "Delay time in general python list:  0.973928689956665\n",
      "Delay time in numpy arrays:  0.027141094207763672\n"
     ]
    }
   ],
   "source": [
    "#Basic Python Lists\n",
    "import time\n",
    "start_time = time.time()\n",
    "python_list = [i*2 for i in range(10000000)]\n",
    "end_time = time.time()\n",
    "delay_time = end_time - start_time\n",
    "print(\"Delay time in general python list: \", delay_time)\n",
    "\n",
    "\n",
    "#Numpy \n",
    "start_time_numpy = time.time()\n",
    "numpy_array = 2*np.arange(10000000)\n",
    "end_time_numpy = time.time()\n",
    "delay_time_numpy = end_time_numpy - start_time_numpy\n",
    "print(\"Delay time in numpy arrays: \", delay_time_numpy)"
   ]
  },
  {
   "cell_type": "code",
   "execution_count": null,
   "id": "77bcf31d-81f3-4488-91ba-24f54449cdf5",
   "metadata": {},
   "outputs": [],
   "source": []
  }
 ],
 "metadata": {
  "kernelspec": {
   "display_name": "Python 3 (ipykernel)",
   "language": "python",
   "name": "python3"
  },
  "language_info": {
   "codemirror_mode": {
    "name": "ipython",
    "version": 3
   },
   "file_extension": ".py",
   "mimetype": "text/x-python",
   "name": "python",
   "nbconvert_exporter": "python",
   "pygments_lexer": "ipython3",
   "version": "3.12.5"
  }
 },
 "nbformat": 4,
 "nbformat_minor": 5
}
