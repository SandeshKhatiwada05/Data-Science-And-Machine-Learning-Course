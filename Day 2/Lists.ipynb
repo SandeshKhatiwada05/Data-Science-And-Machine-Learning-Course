{
 "cells": [
  {
   "cell_type": "markdown",
   "id": "da7f3518-12ff-4954-a99a-a0830842f200",
   "metadata": {},
   "source": [
    "##### Lists are one of the most commonly used features in data science, so we will learn about them today."
   ]
  },
  {
   "cell_type": "code",
   "execution_count": null,
   "id": "de08f85d-b66a-49a4-81f0-c0efa7556534",
   "metadata": {},
   "outputs": [],
   "source": []
  }
 ],
 "metadata": {
  "kernelspec": {
   "display_name": "Python 3 (ipykernel)",
   "language": "python",
   "name": "python3"
  },
  "language_info": {
   "codemirror_mode": {
    "name": "ipython",
    "version": 3
   },
   "file_extension": ".py",
   "mimetype": "text/x-python",
   "name": "python",
   "nbconvert_exporter": "python",
   "pygments_lexer": "ipython3",
   "version": "3.12.5"
  }
 },
 "nbformat": 4,
 "nbformat_minor": 5
}
