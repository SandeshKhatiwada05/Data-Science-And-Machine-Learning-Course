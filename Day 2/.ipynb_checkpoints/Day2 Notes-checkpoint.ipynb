{
 "cells": [
  {
   "cell_type": "markdown",
   "id": "3ce25900-acf2-43ec-b4ab-cc56d3f314e1",
   "metadata": {
    "jp-MarkdownHeadingCollapsed": true
   },
   "source": [
    "## 4 Types of Statistics"
   ]
  },
  {
   "cell_type": "markdown",
   "id": "f4dd397b-1f80-4bd2-9ed3-b3d5f1eef787",
   "metadata": {},
   "source": [
    "### 1. Descriptive Statistics"
   ]
  },
  {
   "cell_type": "markdown",
   "id": "6d99faa2-5922-465d-b78c-2d8bfac891ae",
   "metadata": {},
   "source": [
    "Summarizes and describes features of a dataset.  \n",
    "Examples: mean, median, mode, standard deviation."
   ]
  },
  {
   "cell_type": "code",
   "execution_count": 1,
   "id": "fc58b667-3594-4a0a-af6c-8a9b8d9dce7d",
   "metadata": {},
   "outputs": [
    {
     "name": "stdout",
     "output_type": "stream",
     "text": [
      "Mean: 30.0\n",
      "Median: 30.0\n",
      "Standard Deviation: 14.142135623730951\n"
     ]
    }
   ],
   "source": [
    "import numpy as np\n",
    "\n",
    "data = [10, 20, 30, 40, 50]\n",
    "mean = np.mean(data)\n",
    "median = np.median(data)\n",
    "std = np.std(data)\n",
    "\n",
    "print(\"Mean:\", mean)\n",
    "print(\"Median:\", median)\n",
    "print(\"Standard Deviation:\", std)\n"
   ]
  },
  {
   "cell_type": "markdown",
   "id": "92895e11-974b-42ec-ad5b-29c379b71ac3",
   "metadata": {},
   "source": [
    "### 2. Predictive Statistics"
   ]
  },
  {
   "cell_type": "markdown",
   "id": "06f5f4fd-9667-452b-ba9a-602d3cd2cf97",
   "metadata": {},
   "source": [
    "Uses data to make predictions about future outcomes.  \n",
    "Commonly used in machine learning."
   ]
  },
  {
   "cell_type": "code",
   "execution_count": 2,
   "id": "9d5e587c-d4a1-49cd-b0a5-3a2313383d57",
   "metadata": {},
   "outputs": [
    {
     "name": "stdout",
     "output_type": "stream",
     "text": [
      "Prediction for input 5: 10.0\n"
     ]
    }
   ],
   "source": [
    "from sklearn.linear_model import LinearRegression\n",
    "import numpy as np\n",
    "\n",
    "# Training data\n",
    "X = np.array([[1], [2], [3], [4]])\n",
    "y = np.array([2, 4, 6, 8])\n",
    "\n",
    "model = LinearRegression()\n",
    "model.fit(X, y)\n",
    "\n",
    "# Predict\n",
    "prediction = model.predict([[5]])\n",
    "print(\"Prediction for input 5:\", prediction[0])"
   ]
  },
  {
   "cell_type": "markdown",
   "id": "c50b7cdb-b060-4038-bc7e-20f13f52db6f",
   "metadata": {},
   "source": [
    "### 3. Prescriptive Statistics"
   ]
  },
  {
   "cell_type": "markdown",
   "id": "bf55293a-f252-4aa0-8944-d6004b479679",
   "metadata": {},
   "source": [
    "Suggests actions to achieve desired outcomes.  \n",
    "Used in optimization, decision-making, operations research."
   ]
  },
  {
   "cell_type": "code",
   "execution_count": 3,
   "id": "202789ec-b378-43b0-ba23-fc1dd962f9e4",
   "metadata": {},
   "outputs": [
    {
     "name": "stdout",
     "output_type": "stream",
     "text": [
      "Prescriptive Action: Order more stock!\n"
     ]
    }
   ],
   "source": [
    "demand = 100\n",
    "stock = 80\n",
    "\n",
    "if stock < demand:\n",
    "    print(\"Prescriptive Action: Order more stock!\")\n",
    "else:\n",
    "    print(\"Stock level is sufficient.\")"
   ]
  },
  {
   "cell_type": "markdown",
   "id": "d83604c3-7f8f-42d1-adcd-180792d967bc",
   "metadata": {},
   "source": [
    "### 4. Diagnostic Statistics"
   ]
  },
  {
   "cell_type": "markdown",
   "id": "b89db400-bb4a-4984-8b98-288a7c456f9e",
   "metadata": {},
   "source": [
    "dentifies why something happened.  \n",
    "Involves correlation, hypothesis testing, data exploration."
   ]
  },
  {
   "cell_type": "code",
   "execution_count": 4,
   "id": "d7ef4ece-cd25-45e8-9b5c-4dd62a8819de",
   "metadata": {},
   "outputs": [
    {
     "name": "stdout",
     "output_type": "stream",
     "text": [
      "Correlation Matrix:\n",
      " [[1. 1.]\n",
      " [1. 1.]]\n"
     ]
    }
   ],
   "source": [
    "import numpy as np\n",
    "\n",
    "x = [1, 2, 3, 4, 5]\n",
    "y = [2, 4, 6, 8, 10]\n",
    "\n",
    "correlation = np.corrcoef(x, y)\n",
    "print(\"Correlation Matrix:\\n\", correlation)"
   ]
  },
  {
   "cell_type": "markdown",
   "id": "9dbc0bb3-05ff-41e4-99b4-7099ce539ecb",
   "metadata": {
    "jp-MarkdownHeadingCollapsed": true
   },
   "source": [
    "## 🔗 Python Package Index (PyPI)"
   ]
  },
  {
   "cell_type": "markdown",
   "id": "69c5856e-c031-47dc-b762-b5179c734627",
   "metadata": {},
   "source": [
    "Official website to search Python libraries: https://pypi.org  \n",
    "Example: Search pandas, scikit-learn, tensorflow etc."
   ]
  },
  {
   "cell_type": "markdown",
   "id": "546f4ed8-9a1c-4295-bbe6-f30d45dfc3ec",
   "metadata": {
    "jp-MarkdownHeadingCollapsed": true
   },
   "source": [
    "## Jupyter Notebook Shortcuts"
   ]
  },
  {
   "cell_type": "markdown",
   "id": "69931ec3-e7ab-4c45-8d89-8c49345e34ff",
   "metadata": {},
   "source": [
    "| Action       | Shortcut |\n",
    "|--------------|----------|\n",
    "| Add cell below | Esc + B |\n",
    "| Add cell above | Esc + A |\n",
    "| Heading 1      | Esc + 1 |\n",
    "| Heading 2      | Esc + 2 |\n",
    "| Heading 3      | Esc + 3 |\n",
    "| Heading 4      | Esc + 4 |\n",
    "| Heading 5      | Esc + 5 |\n"
   ]
  },
  {
   "cell_type": "markdown",
   "id": "b2a748b5-f868-457b-b95f-097506471c33",
   "metadata": {},
   "source": [
    "## Python Data Types Quick Guide"
   ]
  },
  {
   "cell_type": "markdown",
   "id": "966c13f5-50ee-48b7-9b75-b1d425a8fad0",
   "metadata": {},
   "source": [
    "| Symbol | Type       | Example                   |\n",
    "|--------|------------|---------------------------|\n",
    "| `()`   | Tuple      | `t = (1, 2, 3)`           |\n",
    "| `[]`   | List       | `l = [1, 2, 3]`           |\n",
    "| `{}`   | Dictionary | `d = {'a': 1, 'b': 2}`    |\n",
    "| `{}`   | Set        | `s = {1, 2, 3}`           |\n"
   ]
  },
  {
   "cell_type": "markdown",
   "id": "d234d942-f313-41e3-aa46-8d0ce7ec3074",
   "metadata": {},
   "source": [
    "## Zen of Python"
   ]
  },
  {
   "cell_type": "markdown",
   "id": "fe9fa69c-6352-41d9-86fd-99673be4749f",
   "metadata": {},
   "source": [
    "The Zen of Python contains guiding principles of writing Python code."
   ]
  },
  {
   "cell_type": "code",
   "execution_count": 6,
   "id": "19910006-2076-419f-80d2-6bbba83ae5b7",
   "metadata": {},
   "outputs": [
    {
     "name": "stdout",
     "output_type": "stream",
     "text": [
      "The Zen of Python, by Tim Peters\n",
      "\n",
      "Beautiful is better than ugly.\n",
      "Explicit is better than implicit.\n",
      "Simple is better than complex.\n",
      "Complex is better than complicated.\n",
      "Flat is better than nested.\n",
      "Sparse is better than dense.\n",
      "Readability counts.\n",
      "Special cases aren't special enough to break the rules.\n",
      "Although practicality beats purity.\n",
      "Errors should never pass silently.\n",
      "Unless explicitly silenced.\n",
      "In the face of ambiguity, refuse the temptation to guess.\n",
      "There should be one-- and preferably only one --obvious way to do it.\n",
      "Although that way may not be obvious at first unless you're Dutch.\n",
      "Now is better than never.\n",
      "Although never is often better than *right* now.\n",
      "If the implementation is hard to explain, it's a bad idea.\n",
      "If the implementation is easy to explain, it may be a good idea.\n",
      "Namespaces are one honking great idea -- let's do more of those!\n"
     ]
    }
   ],
   "source": [
    "import this"
   ]
  },
  {
   "cell_type": "code",
   "execution_count": null,
   "id": "8d67ad19-5704-4b5f-bb7d-fd06d2c1590e",
   "metadata": {},
   "outputs": [],
   "source": []
  }
 ],
 "metadata": {
  "kernelspec": {
   "display_name": "Python 3 (ipykernel)",
   "language": "python",
   "name": "python3"
  },
  "language_info": {
   "codemirror_mode": {
    "name": "ipython",
    "version": 3
   },
   "file_extension": ".py",
   "mimetype": "text/x-python",
   "name": "python",
   "nbconvert_exporter": "python",
   "pygments_lexer": "ipython3",
   "version": "3.12.5"
  }
 },
 "nbformat": 4,
 "nbformat_minor": 5
}
